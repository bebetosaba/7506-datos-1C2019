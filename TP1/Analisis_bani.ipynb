{
 "cells": [
  {
   "cell_type": "code",
   "execution_count": 2,
   "metadata": {},
   "outputs": [
    {
     "name": "stdout",
     "output_type": "stream",
     "text": [
      "setup done\n"
     ]
    }
   ],
   "source": [
    "import pandas as pd\n",
    "import numpy as np\n",
    "import seaborn as sns\n",
    "import matplotlib.pyplot as plt\n",
    "import matplotlib.mlab as mlab\n",
    "import pylab\n",
    "from pylab import xticks\n",
    "\n",
    "\n",
    "\n",
    "#%matplotlib inline\n",
    "\n",
    "#plt.style.use('default') # haciendo los graficos un poco mas bonitos en matplotlib\n",
    "#plt.rcParams['figure.figsize'] = (10, 6)\n",
    "\n",
    "#sns.set(style=\"whitegrid\") # seteando tipo de grid en seaborn\n",
    "\n",
    "\n",
    "clicksDF = pd.read_csv('clicks.csv.gzip', compression='gzip', dtype={'advertiser_id':'int32','action_id':'float32','source_id':'int32','country_code':'category',\\\n",
    "                                                                           'latitude':'float32','longitude':'float32','carrier_id':'float32','os_minor':'category',\\\n",
    "                                                                           'os_major':'category','specs_brand':'category','timeToClick':'float32','touchX':'float32',\\\n",
    "                                                                           'touchY':'float32','ref_type':'category'}, index_col='trans_id')\n",
    "clicksDF['created'] = pd.to_datetime(clicksDF['created'])\n",
    "eventsDF = pd.read_csv('events.csv.gzip', compression='gzip',low_memory=False, dtype={'event_id':'int32','ref_type':'category','application_id':'int32',\\\n",
    "                                                                                            'attributed':'bool','device_countrycode':'category','device_city':'category',\\\n",
    "                                                                                            '7Y6<Y4VBtrans_id':'category','carrier':'category',\\\n",
    "                                                                                            'wifi':'bool','connection_type':'category'}, index_col='event_uuid')\n",
    "# le quite a eventsDF 'device_os':'category',\n",
    "\n",
    "eventsDF['date'] = pd.to_datetime(eventsDF['date'])\n",
    "\n",
    "installsDF = pd.read_csv('installs.csv.gzip', compression='gzip',index_col='ref_hash', dtype={'ref_type':'category','application_id':'int32',\\\n",
    "                                                                                              'device_brand':'category','click_hash':'float32','wifi':'bool'\\\n",
    "                                                                                            })\n",
    "installsDF['created'] = pd.to_datetime(installsDF['created'])\n",
    "#dropear session_user_agent q nos dijo se puede desestimar\n",
    "installsDF.drop(columns=['session_user_agent'])\n",
    "    \n",
    "auctionsDF = pd.read_csv('auctions.csv.gzip', compression='gzip', low_memory=False, dtype={'country':'category','platform':'category','ref_type_id':'category'})\n",
    "#preguntar devide_id , es el cel o el server?\n",
    "\n",
    "#ignoramos target competencia para el TP1\n",
    "#target_competenciaDF = pd.read_csv('target_competencia.csv', index_col='index',dtype={'index':'int32','obj_Sc':'int32','obj_St':'int32'})\n",
    "\n",
    "print('setup done')\n",
    "\n"
   ]
  },
  {
   "cell_type": "code",
   "execution_count": 5,
   "metadata": {},
   "outputs": [
    {
     "data": {
      "text/html": [
       "<div>\n",
       "<style scoped>\n",
       "    .dataframe tbody tr th:only-of-type {\n",
       "        vertical-align: middle;\n",
       "    }\n",
       "\n",
       "    .dataframe tbody tr th {\n",
       "        vertical-align: top;\n",
       "    }\n",
       "\n",
       "    .dataframe thead th {\n",
       "        text-align: right;\n",
       "    }\n",
       "</style>\n",
       "<table border=\"1\" class=\"dataframe\">\n",
       "  <thead>\n",
       "    <tr style=\"text-align: right;\">\n",
       "      <th></th>\n",
       "      <th>date</th>\n",
       "      <th>event_id</th>\n",
       "      <th>ref_type</th>\n",
       "      <th>ref_hash</th>\n",
       "      <th>application_id</th>\n",
       "      <th>attributed</th>\n",
       "      <th>device_countrycode</th>\n",
       "      <th>device_os_version</th>\n",
       "      <th>device_brand</th>\n",
       "      <th>device_model</th>\n",
       "      <th>...</th>\n",
       "      <th>session_user_agent</th>\n",
       "      <th>trans_id</th>\n",
       "      <th>user_agent</th>\n",
       "      <th>carrier</th>\n",
       "      <th>kind</th>\n",
       "      <th>device_os</th>\n",
       "      <th>wifi</th>\n",
       "      <th>connection_type</th>\n",
       "      <th>ip_address</th>\n",
       "      <th>device_language</th>\n",
       "    </tr>\n",
       "    <tr>\n",
       "      <th>event_uuid</th>\n",
       "      <th></th>\n",
       "      <th></th>\n",
       "      <th></th>\n",
       "      <th></th>\n",
       "      <th></th>\n",
       "      <th></th>\n",
       "      <th></th>\n",
       "      <th></th>\n",
       "      <th></th>\n",
       "      <th></th>\n",
       "      <th></th>\n",
       "      <th></th>\n",
       "      <th></th>\n",
       "      <th></th>\n",
       "      <th></th>\n",
       "      <th></th>\n",
       "      <th></th>\n",
       "      <th></th>\n",
       "      <th></th>\n",
       "      <th></th>\n",
       "      <th></th>\n",
       "    </tr>\n",
       "  </thead>\n",
       "  <tbody>\n",
       "    <tr>\n",
       "      <th>a9c0b263-acb2-4577-92c5-cbde5d7a5db1</th>\n",
       "      <td>2019-03-05 00:09:36.966</td>\n",
       "      <td>0</td>\n",
       "      <td>1891515180541284343</td>\n",
       "      <td>2688759737656491380</td>\n",
       "      <td>38</td>\n",
       "      <td>False</td>\n",
       "      <td>6333597102633388268</td>\n",
       "      <td>5.908703e+17</td>\n",
       "      <td>NaN</td>\n",
       "      <td>5.990117e+18</td>\n",
       "      <td>...</td>\n",
       "      <td>7.164321e+18</td>\n",
       "      <td>NaN</td>\n",
       "      <td>NaN</td>\n",
       "      <td>2.2481569642543155e+17</td>\n",
       "      <td>5.516623e+18</td>\n",
       "      <td>7.531669329342818e+18</td>\n",
       "      <td>NaN</td>\n",
       "      <td>Cable/DSL</td>\n",
       "      <td>7858558567428669000</td>\n",
       "      <td>4.077062e+17</td>\n",
       "    </tr>\n",
       "    <tr>\n",
       "      <th>1cd98205-0d97-4ec2-a019-667997dbfe7a</th>\n",
       "      <td>2019-03-05 00:09:38.920</td>\n",
       "      <td>1</td>\n",
       "      <td>1891515180541284343</td>\n",
       "      <td>2688759737656491380</td>\n",
       "      <td>38</td>\n",
       "      <td>False</td>\n",
       "      <td>6333597102633388268</td>\n",
       "      <td>5.908703e+17</td>\n",
       "      <td>NaN</td>\n",
       "      <td>5.990117e+18</td>\n",
       "      <td>...</td>\n",
       "      <td>7.164321e+18</td>\n",
       "      <td>NaN</td>\n",
       "      <td>NaN</td>\n",
       "      <td>2.2481569642543155e+17</td>\n",
       "      <td>9.977660e+17</td>\n",
       "      <td>7.531669329342818e+18</td>\n",
       "      <td>NaN</td>\n",
       "      <td>Cable/DSL</td>\n",
       "      <td>7858558567428669000</td>\n",
       "      <td>4.077062e+17</td>\n",
       "    </tr>\n",
       "    <tr>\n",
       "      <th>f02e2924-21ae-492b-b625-9021ae0a4eca</th>\n",
       "      <td>2019-03-05 00:09:26.195</td>\n",
       "      <td>0</td>\n",
       "      <td>1891515180541284343</td>\n",
       "      <td>2688759737656491380</td>\n",
       "      <td>38</td>\n",
       "      <td>False</td>\n",
       "      <td>6333597102633388268</td>\n",
       "      <td>5.908703e+17</td>\n",
       "      <td>NaN</td>\n",
       "      <td>5.990117e+18</td>\n",
       "      <td>...</td>\n",
       "      <td>7.164321e+18</td>\n",
       "      <td>NaN</td>\n",
       "      <td>NaN</td>\n",
       "      <td>2.2481569642543155e+17</td>\n",
       "      <td>5.516623e+18</td>\n",
       "      <td>7.531669329342818e+18</td>\n",
       "      <td>NaN</td>\n",
       "      <td>Cable/DSL</td>\n",
       "      <td>7858558567428669000</td>\n",
       "      <td>4.077062e+17</td>\n",
       "    </tr>\n",
       "    <tr>\n",
       "      <th>a813cf45-a36e-4668-85e2-5395f1564e98</th>\n",
       "      <td>2019-03-05 00:09:31.107</td>\n",
       "      <td>2</td>\n",
       "      <td>1891515180541284343</td>\n",
       "      <td>2688759737656491380</td>\n",
       "      <td>38</td>\n",
       "      <td>False</td>\n",
       "      <td>6333597102633388268</td>\n",
       "      <td>5.908703e+17</td>\n",
       "      <td>NaN</td>\n",
       "      <td>5.990117e+18</td>\n",
       "      <td>...</td>\n",
       "      <td>7.164321e+18</td>\n",
       "      <td>NaN</td>\n",
       "      <td>NaN</td>\n",
       "      <td>2.2481569642543155e+17</td>\n",
       "      <td>8.561153e+18</td>\n",
       "      <td>7.531669329342818e+18</td>\n",
       "      <td>NaN</td>\n",
       "      <td>Cable/DSL</td>\n",
       "      <td>6324037615828123965</td>\n",
       "      <td>4.077062e+17</td>\n",
       "    </tr>\n",
       "    <tr>\n",
       "      <th>63a4f0aa-e147-469f-8c55-4ca4f8d0e310</th>\n",
       "      <td>2019-03-09 21:00:36.585</td>\n",
       "      <td>3</td>\n",
       "      <td>1891515180541284343</td>\n",
       "      <td>2635154697734164782</td>\n",
       "      <td>38</td>\n",
       "      <td>False</td>\n",
       "      <td>6333597102633388268</td>\n",
       "      <td>7.391844e+18</td>\n",
       "      <td>NaN</td>\n",
       "      <td>5.960896e+18</td>\n",
       "      <td>...</td>\n",
       "      <td>7.164321e+18</td>\n",
       "      <td>NaN</td>\n",
       "      <td>NaN</td>\n",
       "      <td>2.2481569642543155e+17</td>\n",
       "      <td>8.731902e+17</td>\n",
       "      <td>7.531669329342818e+18</td>\n",
       "      <td>NaN</td>\n",
       "      <td>Cable/DSL</td>\n",
       "      <td>2894495631302821483</td>\n",
       "      <td>3.301378e+18</td>\n",
       "    </tr>\n",
       "  </tbody>\n",
       "</table>\n",
       "<p>5 rows × 21 columns</p>\n",
       "</div>"
      ],
      "text/plain": [
       "                                                        date  event_id  \\\n",
       "event_uuid                                                               \n",
       "a9c0b263-acb2-4577-92c5-cbde5d7a5db1 2019-03-05 00:09:36.966         0   \n",
       "1cd98205-0d97-4ec2-a019-667997dbfe7a 2019-03-05 00:09:38.920         1   \n",
       "f02e2924-21ae-492b-b625-9021ae0a4eca 2019-03-05 00:09:26.195         0   \n",
       "a813cf45-a36e-4668-85e2-5395f1564e98 2019-03-05 00:09:31.107         2   \n",
       "63a4f0aa-e147-469f-8c55-4ca4f8d0e310 2019-03-09 21:00:36.585         3   \n",
       "\n",
       "                                                 ref_type  \\\n",
       "event_uuid                                                  \n",
       "a9c0b263-acb2-4577-92c5-cbde5d7a5db1  1891515180541284343   \n",
       "1cd98205-0d97-4ec2-a019-667997dbfe7a  1891515180541284343   \n",
       "f02e2924-21ae-492b-b625-9021ae0a4eca  1891515180541284343   \n",
       "a813cf45-a36e-4668-85e2-5395f1564e98  1891515180541284343   \n",
       "63a4f0aa-e147-469f-8c55-4ca4f8d0e310  1891515180541284343   \n",
       "\n",
       "                                                 ref_hash  application_id  \\\n",
       "event_uuid                                                                  \n",
       "a9c0b263-acb2-4577-92c5-cbde5d7a5db1  2688759737656491380              38   \n",
       "1cd98205-0d97-4ec2-a019-667997dbfe7a  2688759737656491380              38   \n",
       "f02e2924-21ae-492b-b625-9021ae0a4eca  2688759737656491380              38   \n",
       "a813cf45-a36e-4668-85e2-5395f1564e98  2688759737656491380              38   \n",
       "63a4f0aa-e147-469f-8c55-4ca4f8d0e310  2635154697734164782              38   \n",
       "\n",
       "                                      attributed   device_countrycode  \\\n",
       "event_uuid                                                              \n",
       "a9c0b263-acb2-4577-92c5-cbde5d7a5db1       False  6333597102633388268   \n",
       "1cd98205-0d97-4ec2-a019-667997dbfe7a       False  6333597102633388268   \n",
       "f02e2924-21ae-492b-b625-9021ae0a4eca       False  6333597102633388268   \n",
       "a813cf45-a36e-4668-85e2-5395f1564e98       False  6333597102633388268   \n",
       "63a4f0aa-e147-469f-8c55-4ca4f8d0e310       False  6333597102633388268   \n",
       "\n",
       "                                      device_os_version  device_brand  \\\n",
       "event_uuid                                                              \n",
       "a9c0b263-acb2-4577-92c5-cbde5d7a5db1       5.908703e+17           NaN   \n",
       "1cd98205-0d97-4ec2-a019-667997dbfe7a       5.908703e+17           NaN   \n",
       "f02e2924-21ae-492b-b625-9021ae0a4eca       5.908703e+17           NaN   \n",
       "a813cf45-a36e-4668-85e2-5395f1564e98       5.908703e+17           NaN   \n",
       "63a4f0aa-e147-469f-8c55-4ca4f8d0e310       7.391844e+18           NaN   \n",
       "\n",
       "                                      device_model       ...         \\\n",
       "event_uuid                                               ...          \n",
       "a9c0b263-acb2-4577-92c5-cbde5d7a5db1  5.990117e+18       ...          \n",
       "1cd98205-0d97-4ec2-a019-667997dbfe7a  5.990117e+18       ...          \n",
       "f02e2924-21ae-492b-b625-9021ae0a4eca  5.990117e+18       ...          \n",
       "a813cf45-a36e-4668-85e2-5395f1564e98  5.990117e+18       ...          \n",
       "63a4f0aa-e147-469f-8c55-4ca4f8d0e310  5.960896e+18       ...          \n",
       "\n",
       "                                     session_user_agent  trans_id user_agent  \\\n",
       "event_uuid                                                                     \n",
       "a9c0b263-acb2-4577-92c5-cbde5d7a5db1       7.164321e+18       NaN        NaN   \n",
       "1cd98205-0d97-4ec2-a019-667997dbfe7a       7.164321e+18       NaN        NaN   \n",
       "f02e2924-21ae-492b-b625-9021ae0a4eca       7.164321e+18       NaN        NaN   \n",
       "a813cf45-a36e-4668-85e2-5395f1564e98       7.164321e+18       NaN        NaN   \n",
       "63a4f0aa-e147-469f-8c55-4ca4f8d0e310       7.164321e+18       NaN        NaN   \n",
       "\n",
       "                                                     carrier          kind  \\\n",
       "event_uuid                                                                   \n",
       "a9c0b263-acb2-4577-92c5-cbde5d7a5db1  2.2481569642543155e+17  5.516623e+18   \n",
       "1cd98205-0d97-4ec2-a019-667997dbfe7a  2.2481569642543155e+17  9.977660e+17   \n",
       "f02e2924-21ae-492b-b625-9021ae0a4eca  2.2481569642543155e+17  5.516623e+18   \n",
       "a813cf45-a36e-4668-85e2-5395f1564e98  2.2481569642543155e+17  8.561153e+18   \n",
       "63a4f0aa-e147-469f-8c55-4ca4f8d0e310  2.2481569642543155e+17  8.731902e+17   \n",
       "\n",
       "                                                  device_os wifi  \\\n",
       "event_uuid                                                         \n",
       "a9c0b263-acb2-4577-92c5-cbde5d7a5db1  7.531669329342818e+18  NaN   \n",
       "1cd98205-0d97-4ec2-a019-667997dbfe7a  7.531669329342818e+18  NaN   \n",
       "f02e2924-21ae-492b-b625-9021ae0a4eca  7.531669329342818e+18  NaN   \n",
       "a813cf45-a36e-4668-85e2-5395f1564e98  7.531669329342818e+18  NaN   \n",
       "63a4f0aa-e147-469f-8c55-4ca4f8d0e310  7.531669329342818e+18  NaN   \n",
       "\n",
       "                                     connection_type           ip_address  \\\n",
       "event_uuid                                                                  \n",
       "a9c0b263-acb2-4577-92c5-cbde5d7a5db1       Cable/DSL  7858558567428669000   \n",
       "1cd98205-0d97-4ec2-a019-667997dbfe7a       Cable/DSL  7858558567428669000   \n",
       "f02e2924-21ae-492b-b625-9021ae0a4eca       Cable/DSL  7858558567428669000   \n",
       "a813cf45-a36e-4668-85e2-5395f1564e98       Cable/DSL  6324037615828123965   \n",
       "63a4f0aa-e147-469f-8c55-4ca4f8d0e310       Cable/DSL  2894495631302821483   \n",
       "\n",
       "                                      device_language  \n",
       "event_uuid                                             \n",
       "a9c0b263-acb2-4577-92c5-cbde5d7a5db1     4.077062e+17  \n",
       "1cd98205-0d97-4ec2-a019-667997dbfe7a     4.077062e+17  \n",
       "f02e2924-21ae-492b-b625-9021ae0a4eca     4.077062e+17  \n",
       "a813cf45-a36e-4668-85e2-5395f1564e98     4.077062e+17  \n",
       "63a4f0aa-e147-469f-8c55-4ca4f8d0e310     3.301378e+18  \n",
       "\n",
       "[5 rows x 21 columns]"
      ]
     },
     "execution_count": 5,
     "metadata": {},
     "output_type": "execute_result"
    }
   ],
   "source": [
    "eventsDF.head(5)"
   ]
  },
  {
   "cell_type": "code",
   "execution_count": 19,
   "metadata": {},
   "outputs": [
    {
     "data": {
      "text/plain": [
       "(2494423, 21)"
      ]
     },
     "execution_count": 19,
     "metadata": {},
     "output_type": "execute_result"
    }
   ],
   "source": [
    "eventsDF.shape"
   ]
  },
  {
   "cell_type": "code",
   "execution_count": 2,
   "metadata": {},
   "outputs": [],
   "source": [
    "#eventsDF['ip_address'].value_counts()"
   ]
  },
  {
   "cell_type": "code",
   "execution_count": 19,
   "metadata": {},
   "outputs": [],
   "source": [
    "## naming the OS of the devices\n",
    "#group by category\n",
    "#device_name=pd.Series([eventsDF[device_os].value_counts])\n",
    "tempDF=eventsDF['device_os'].value_counts()\n",
    "#tempDF['os_name']=\n",
    "#eventsDF['os_name']=eventsDF['device_os'].replace({ 7.531669329342818e+18:'os_1' , 6.941824626260379e+18:'os_2', 2.7488313570525307e+18:'os_3' , 5.916186881232351e+18: 'os_4'})\n"
   ]
  },
  {
   "cell_type": "code",
   "execution_count": 18,
   "metadata": {},
   "outputs": [
    {
     "data": {
      "text/plain": [
       "7.531669329342818e+18     389811\n",
       "6.941824626260379e+18     260861\n",
       "2.7488313570525307e+18      6110\n",
       "5.916186881232351e+18        885\n",
       "Name: device_os, dtype: int64"
      ]
     },
     "execution_count": 18,
     "metadata": {},
     "output_type": "execute_result"
    }
   ],
   "source": [
    "tempDF.head()\n"
   ]
  },
  {
   "cell_type": "code",
   "execution_count": 61,
   "metadata": {},
   "outputs": [
    {
     "data": {
      "text/html": [
       "<div>\n",
       "<style scoped>\n",
       "    .dataframe tbody tr th:only-of-type {\n",
       "        vertical-align: middle;\n",
       "    }\n",
       "\n",
       "    .dataframe tbody tr th {\n",
       "        vertical-align: top;\n",
       "    }\n",
       "\n",
       "    .dataframe thead th {\n",
       "        text-align: right;\n",
       "    }\n",
       "</style>\n",
       "<table border=\"1\" class=\"dataframe\">\n",
       "  <thead>\n",
       "    <tr style=\"text-align: right;\">\n",
       "      <th></th>\n",
       "      <th>date</th>\n",
       "      <th>event_id</th>\n",
       "      <th>ref_type</th>\n",
       "      <th>ref_hash</th>\n",
       "      <th>application_id</th>\n",
       "      <th>attributed</th>\n",
       "      <th>device_countrycode</th>\n",
       "      <th>device_os_version</th>\n",
       "      <th>device_brand</th>\n",
       "      <th>device_model</th>\n",
       "      <th>...</th>\n",
       "      <th>session_user_agent</th>\n",
       "      <th>trans_id</th>\n",
       "      <th>user_agent</th>\n",
       "      <th>carrier</th>\n",
       "      <th>kind</th>\n",
       "      <th>device_os</th>\n",
       "      <th>wifi</th>\n",
       "      <th>connection_type</th>\n",
       "      <th>ip_address</th>\n",
       "      <th>device_language</th>\n",
       "    </tr>\n",
       "    <tr>\n",
       "      <th>event_uuid</th>\n",
       "      <th></th>\n",
       "      <th></th>\n",
       "      <th></th>\n",
       "      <th></th>\n",
       "      <th></th>\n",
       "      <th></th>\n",
       "      <th></th>\n",
       "      <th></th>\n",
       "      <th></th>\n",
       "      <th></th>\n",
       "      <th></th>\n",
       "      <th></th>\n",
       "      <th></th>\n",
       "      <th></th>\n",
       "      <th></th>\n",
       "      <th></th>\n",
       "      <th></th>\n",
       "      <th></th>\n",
       "      <th></th>\n",
       "      <th></th>\n",
       "      <th></th>\n",
       "    </tr>\n",
       "  </thead>\n",
       "  <tbody>\n",
       "    <tr>\n",
       "      <th>a9c0b263-acb2-4577-92c5-cbde5d7a5db1</th>\n",
       "      <td>2019-03-05 00:09:36.966</td>\n",
       "      <td>0</td>\n",
       "      <td>1891515180541284343</td>\n",
       "      <td>2688759737656491380</td>\n",
       "      <td>38</td>\n",
       "      <td>False</td>\n",
       "      <td>6333597102633388268</td>\n",
       "      <td>5.908703e+17</td>\n",
       "      <td>NaN</td>\n",
       "      <td>5.990117e+18</td>\n",
       "      <td>...</td>\n",
       "      <td>7.164321e+18</td>\n",
       "      <td>NaN</td>\n",
       "      <td>NaN</td>\n",
       "      <td>2.2481569642543155e+17</td>\n",
       "      <td>5.516623e+18</td>\n",
       "      <td>7.53167e+18</td>\n",
       "      <td>NaN</td>\n",
       "      <td>Cable/DSL</td>\n",
       "      <td>7858558567428669000</td>\n",
       "      <td>4.077062e+17</td>\n",
       "    </tr>\n",
       "    <tr>\n",
       "      <th>1cd98205-0d97-4ec2-a019-667997dbfe7a</th>\n",
       "      <td>2019-03-05 00:09:38.920</td>\n",
       "      <td>1</td>\n",
       "      <td>1891515180541284343</td>\n",
       "      <td>2688759737656491380</td>\n",
       "      <td>38</td>\n",
       "      <td>False</td>\n",
       "      <td>6333597102633388268</td>\n",
       "      <td>5.908703e+17</td>\n",
       "      <td>NaN</td>\n",
       "      <td>5.990117e+18</td>\n",
       "      <td>...</td>\n",
       "      <td>7.164321e+18</td>\n",
       "      <td>NaN</td>\n",
       "      <td>NaN</td>\n",
       "      <td>2.2481569642543155e+17</td>\n",
       "      <td>9.977660e+17</td>\n",
       "      <td>7.53167e+18</td>\n",
       "      <td>NaN</td>\n",
       "      <td>Cable/DSL</td>\n",
       "      <td>7858558567428669000</td>\n",
       "      <td>4.077062e+17</td>\n",
       "    </tr>\n",
       "    <tr>\n",
       "      <th>f02e2924-21ae-492b-b625-9021ae0a4eca</th>\n",
       "      <td>2019-03-05 00:09:26.195</td>\n",
       "      <td>0</td>\n",
       "      <td>1891515180541284343</td>\n",
       "      <td>2688759737656491380</td>\n",
       "      <td>38</td>\n",
       "      <td>False</td>\n",
       "      <td>6333597102633388268</td>\n",
       "      <td>5.908703e+17</td>\n",
       "      <td>NaN</td>\n",
       "      <td>5.990117e+18</td>\n",
       "      <td>...</td>\n",
       "      <td>7.164321e+18</td>\n",
       "      <td>NaN</td>\n",
       "      <td>NaN</td>\n",
       "      <td>2.2481569642543155e+17</td>\n",
       "      <td>5.516623e+18</td>\n",
       "      <td>7.53167e+18</td>\n",
       "      <td>NaN</td>\n",
       "      <td>Cable/DSL</td>\n",
       "      <td>7858558567428669000</td>\n",
       "      <td>4.077062e+17</td>\n",
       "    </tr>\n",
       "    <tr>\n",
       "      <th>a813cf45-a36e-4668-85e2-5395f1564e98</th>\n",
       "      <td>2019-03-05 00:09:31.107</td>\n",
       "      <td>2</td>\n",
       "      <td>1891515180541284343</td>\n",
       "      <td>2688759737656491380</td>\n",
       "      <td>38</td>\n",
       "      <td>False</td>\n",
       "      <td>6333597102633388268</td>\n",
       "      <td>5.908703e+17</td>\n",
       "      <td>NaN</td>\n",
       "      <td>5.990117e+18</td>\n",
       "      <td>...</td>\n",
       "      <td>7.164321e+18</td>\n",
       "      <td>NaN</td>\n",
       "      <td>NaN</td>\n",
       "      <td>2.2481569642543155e+17</td>\n",
       "      <td>8.561153e+18</td>\n",
       "      <td>7.53167e+18</td>\n",
       "      <td>NaN</td>\n",
       "      <td>Cable/DSL</td>\n",
       "      <td>6324037615828123965</td>\n",
       "      <td>4.077062e+17</td>\n",
       "    </tr>\n",
       "    <tr>\n",
       "      <th>63a4f0aa-e147-469f-8c55-4ca4f8d0e310</th>\n",
       "      <td>2019-03-09 21:00:36.585</td>\n",
       "      <td>3</td>\n",
       "      <td>1891515180541284343</td>\n",
       "      <td>2635154697734164782</td>\n",
       "      <td>38</td>\n",
       "      <td>False</td>\n",
       "      <td>6333597102633388268</td>\n",
       "      <td>7.391844e+18</td>\n",
       "      <td>NaN</td>\n",
       "      <td>5.960896e+18</td>\n",
       "      <td>...</td>\n",
       "      <td>7.164321e+18</td>\n",
       "      <td>NaN</td>\n",
       "      <td>NaN</td>\n",
       "      <td>2.2481569642543155e+17</td>\n",
       "      <td>8.731902e+17</td>\n",
       "      <td>7.53167e+18</td>\n",
       "      <td>NaN</td>\n",
       "      <td>Cable/DSL</td>\n",
       "      <td>2894495631302821483</td>\n",
       "      <td>3.301378e+18</td>\n",
       "    </tr>\n",
       "  </tbody>\n",
       "</table>\n",
       "<p>5 rows × 21 columns</p>\n",
       "</div>"
      ],
      "text/plain": [
       "                                                        date  event_id  \\\n",
       "event_uuid                                                               \n",
       "a9c0b263-acb2-4577-92c5-cbde5d7a5db1 2019-03-05 00:09:36.966         0   \n",
       "1cd98205-0d97-4ec2-a019-667997dbfe7a 2019-03-05 00:09:38.920         1   \n",
       "f02e2924-21ae-492b-b625-9021ae0a4eca 2019-03-05 00:09:26.195         0   \n",
       "a813cf45-a36e-4668-85e2-5395f1564e98 2019-03-05 00:09:31.107         2   \n",
       "63a4f0aa-e147-469f-8c55-4ca4f8d0e310 2019-03-09 21:00:36.585         3   \n",
       "\n",
       "                                                 ref_type  \\\n",
       "event_uuid                                                  \n",
       "a9c0b263-acb2-4577-92c5-cbde5d7a5db1  1891515180541284343   \n",
       "1cd98205-0d97-4ec2-a019-667997dbfe7a  1891515180541284343   \n",
       "f02e2924-21ae-492b-b625-9021ae0a4eca  1891515180541284343   \n",
       "a813cf45-a36e-4668-85e2-5395f1564e98  1891515180541284343   \n",
       "63a4f0aa-e147-469f-8c55-4ca4f8d0e310  1891515180541284343   \n",
       "\n",
       "                                                 ref_hash  application_id  \\\n",
       "event_uuid                                                                  \n",
       "a9c0b263-acb2-4577-92c5-cbde5d7a5db1  2688759737656491380              38   \n",
       "1cd98205-0d97-4ec2-a019-667997dbfe7a  2688759737656491380              38   \n",
       "f02e2924-21ae-492b-b625-9021ae0a4eca  2688759737656491380              38   \n",
       "a813cf45-a36e-4668-85e2-5395f1564e98  2688759737656491380              38   \n",
       "63a4f0aa-e147-469f-8c55-4ca4f8d0e310  2635154697734164782              38   \n",
       "\n",
       "                                      attributed   device_countrycode  \\\n",
       "event_uuid                                                              \n",
       "a9c0b263-acb2-4577-92c5-cbde5d7a5db1       False  6333597102633388268   \n",
       "1cd98205-0d97-4ec2-a019-667997dbfe7a       False  6333597102633388268   \n",
       "f02e2924-21ae-492b-b625-9021ae0a4eca       False  6333597102633388268   \n",
       "a813cf45-a36e-4668-85e2-5395f1564e98       False  6333597102633388268   \n",
       "63a4f0aa-e147-469f-8c55-4ca4f8d0e310       False  6333597102633388268   \n",
       "\n",
       "                                      device_os_version  device_brand  \\\n",
       "event_uuid                                                              \n",
       "a9c0b263-acb2-4577-92c5-cbde5d7a5db1       5.908703e+17           NaN   \n",
       "1cd98205-0d97-4ec2-a019-667997dbfe7a       5.908703e+17           NaN   \n",
       "f02e2924-21ae-492b-b625-9021ae0a4eca       5.908703e+17           NaN   \n",
       "a813cf45-a36e-4668-85e2-5395f1564e98       5.908703e+17           NaN   \n",
       "63a4f0aa-e147-469f-8c55-4ca4f8d0e310       7.391844e+18           NaN   \n",
       "\n",
       "                                      device_model       ...         \\\n",
       "event_uuid                                               ...          \n",
       "a9c0b263-acb2-4577-92c5-cbde5d7a5db1  5.990117e+18       ...          \n",
       "1cd98205-0d97-4ec2-a019-667997dbfe7a  5.990117e+18       ...          \n",
       "f02e2924-21ae-492b-b625-9021ae0a4eca  5.990117e+18       ...          \n",
       "a813cf45-a36e-4668-85e2-5395f1564e98  5.990117e+18       ...          \n",
       "63a4f0aa-e147-469f-8c55-4ca4f8d0e310  5.960896e+18       ...          \n",
       "\n",
       "                                     session_user_agent  trans_id user_agent  \\\n",
       "event_uuid                                                                     \n",
       "a9c0b263-acb2-4577-92c5-cbde5d7a5db1       7.164321e+18       NaN        NaN   \n",
       "1cd98205-0d97-4ec2-a019-667997dbfe7a       7.164321e+18       NaN        NaN   \n",
       "f02e2924-21ae-492b-b625-9021ae0a4eca       7.164321e+18       NaN        NaN   \n",
       "a813cf45-a36e-4668-85e2-5395f1564e98       7.164321e+18       NaN        NaN   \n",
       "63a4f0aa-e147-469f-8c55-4ca4f8d0e310       7.164321e+18       NaN        NaN   \n",
       "\n",
       "                                                     carrier          kind  \\\n",
       "event_uuid                                                                   \n",
       "a9c0b263-acb2-4577-92c5-cbde5d7a5db1  2.2481569642543155e+17  5.516623e+18   \n",
       "1cd98205-0d97-4ec2-a019-667997dbfe7a  2.2481569642543155e+17  9.977660e+17   \n",
       "f02e2924-21ae-492b-b625-9021ae0a4eca  2.2481569642543155e+17  5.516623e+18   \n",
       "a813cf45-a36e-4668-85e2-5395f1564e98  2.2481569642543155e+17  8.561153e+18   \n",
       "63a4f0aa-e147-469f-8c55-4ca4f8d0e310  2.2481569642543155e+17  8.731902e+17   \n",
       "\n",
       "                                        device_os wifi connection_type  \\\n",
       "event_uuid                                                               \n",
       "a9c0b263-acb2-4577-92c5-cbde5d7a5db1  7.53167e+18  NaN       Cable/DSL   \n",
       "1cd98205-0d97-4ec2-a019-667997dbfe7a  7.53167e+18  NaN       Cable/DSL   \n",
       "f02e2924-21ae-492b-b625-9021ae0a4eca  7.53167e+18  NaN       Cable/DSL   \n",
       "a813cf45-a36e-4668-85e2-5395f1564e98  7.53167e+18  NaN       Cable/DSL   \n",
       "63a4f0aa-e147-469f-8c55-4ca4f8d0e310  7.53167e+18  NaN       Cable/DSL   \n",
       "\n",
       "                                               ip_address  device_language  \n",
       "event_uuid                                                                  \n",
       "a9c0b263-acb2-4577-92c5-cbde5d7a5db1  7858558567428669000     4.077062e+17  \n",
       "1cd98205-0d97-4ec2-a019-667997dbfe7a  7858558567428669000     4.077062e+17  \n",
       "f02e2924-21ae-492b-b625-9021ae0a4eca  7858558567428669000     4.077062e+17  \n",
       "a813cf45-a36e-4668-85e2-5395f1564e98  6324037615828123965     4.077062e+17  \n",
       "63a4f0aa-e147-469f-8c55-4ca4f8d0e310  2894495631302821483     3.301378e+18  \n",
       "\n",
       "[5 rows x 21 columns]"
      ]
     },
     "execution_count": 61,
     "metadata": {},
     "output_type": "execute_result"
    }
   ],
   "source": [
    "eventsDF.head()"
   ]
  },
  {
   "cell_type": "code",
   "execution_count": 9,
   "metadata": {},
   "outputs": [
    {
     "data": {
      "text/html": [
       "<div>\n",
       "<style scoped>\n",
       "    .dataframe tbody tr th:only-of-type {\n",
       "        vertical-align: middle;\n",
       "    }\n",
       "\n",
       "    .dataframe tbody tr th {\n",
       "        vertical-align: top;\n",
       "    }\n",
       "\n",
       "    .dataframe thead th {\n",
       "        text-align: right;\n",
       "    }\n",
       "</style>\n",
       "<table border=\"1\" class=\"dataframe\">\n",
       "  <thead>\n",
       "    <tr style=\"text-align: right;\">\n",
       "      <th></th>\n",
       "      <th>advertiser_id</th>\n",
       "      <th>action_id</th>\n",
       "      <th>source_id</th>\n",
       "      <th>created</th>\n",
       "      <th>country_code</th>\n",
       "      <th>latitude</th>\n",
       "      <th>longitude</th>\n",
       "      <th>wifi_connection</th>\n",
       "      <th>carrier_id</th>\n",
       "      <th>os_minor</th>\n",
       "      <th>agent_device</th>\n",
       "      <th>os_major</th>\n",
       "      <th>specs_brand</th>\n",
       "      <th>brand</th>\n",
       "      <th>timeToClick</th>\n",
       "      <th>touchX</th>\n",
       "      <th>touchY</th>\n",
       "      <th>ref_type</th>\n",
       "      <th>ref_hash</th>\n",
       "    </tr>\n",
       "    <tr>\n",
       "      <th>trans_id</th>\n",
       "      <th></th>\n",
       "      <th></th>\n",
       "      <th></th>\n",
       "      <th></th>\n",
       "      <th></th>\n",
       "      <th></th>\n",
       "      <th></th>\n",
       "      <th></th>\n",
       "      <th></th>\n",
       "      <th></th>\n",
       "      <th></th>\n",
       "      <th></th>\n",
       "      <th></th>\n",
       "      <th></th>\n",
       "      <th></th>\n",
       "      <th></th>\n",
       "      <th></th>\n",
       "      <th></th>\n",
       "      <th></th>\n",
       "    </tr>\n",
       "  </thead>\n",
       "  <tbody>\n",
       "    <tr>\n",
       "      <th>iGgClCM9exiHF4K31g94XmvHEBSLKIY</th>\n",
       "      <td>2</td>\n",
       "      <td>NaN</td>\n",
       "      <td>4</td>\n",
       "      <td>2019-03-06 22:42:12.755</td>\n",
       "      <td>6333597102633388268</td>\n",
       "      <td>1.205689</td>\n",
       "      <td>1.070234</td>\n",
       "      <td>False</td>\n",
       "      <td>1.0</td>\n",
       "      <td>6.768137412412545e+18</td>\n",
       "      <td>NaN</td>\n",
       "      <td>3.072849339937028e+18</td>\n",
       "      <td>2733035977666442898</td>\n",
       "      <td>NaN</td>\n",
       "      <td>1.563000</td>\n",
       "      <td>0.905</td>\n",
       "      <td>0.078</td>\n",
       "      <td>1891515180541284343</td>\n",
       "      <td>1904083516767779093</td>\n",
       "    </tr>\n",
       "    <tr>\n",
       "      <th>MMHTOJ6qKAOeIH_Eywh1KIcCaxtO9oM</th>\n",
       "      <td>0</td>\n",
       "      <td>NaN</td>\n",
       "      <td>0</td>\n",
       "      <td>2019-03-08 10:24:30.641</td>\n",
       "      <td>6333597102633388268</td>\n",
       "      <td>1.218924</td>\n",
       "      <td>1.071209</td>\n",
       "      <td>False</td>\n",
       "      <td>4.0</td>\n",
       "      <td>3.025219449024123e+18</td>\n",
       "      <td>NaN</td>\n",
       "      <td>1.77408510258909e+18</td>\n",
       "      <td>392184377613098015</td>\n",
       "      <td>NaN</td>\n",
       "      <td>NaN</td>\n",
       "      <td>NaN</td>\n",
       "      <td>NaN</td>\n",
       "      <td>1891515180541284343</td>\n",
       "      <td>3086509764961796666</td>\n",
       "    </tr>\n",
       "    <tr>\n",
       "      <th>vIrEIdf9izUaWdAri6Ezk7T3nHFvNQU</th>\n",
       "      <td>0</td>\n",
       "      <td>NaN</td>\n",
       "      <td>0</td>\n",
       "      <td>2019-03-08 15:24:16.069</td>\n",
       "      <td>6333597102633388268</td>\n",
       "      <td>1.205689</td>\n",
       "      <td>1.070234</td>\n",
       "      <td>False</td>\n",
       "      <td>6.0</td>\n",
       "      <td>5.97565607170903e+18</td>\n",
       "      <td>NaN</td>\n",
       "      <td>3.072849339937028e+18</td>\n",
       "      <td>392184377613098015</td>\n",
       "      <td>NaN</td>\n",
       "      <td>NaN</td>\n",
       "      <td>0.946</td>\n",
       "      <td>0.473</td>\n",
       "      <td>1891515180541284343</td>\n",
       "      <td>6958163894863846647</td>\n",
       "    </tr>\n",
       "    <tr>\n",
       "      <th>YaKxxEAs2UmZhSpRfiCO9Zpa82B_AKM</th>\n",
       "      <td>2</td>\n",
       "      <td>NaN</td>\n",
       "      <td>3</td>\n",
       "      <td>2019-03-06 03:08:51.543</td>\n",
       "      <td>6333597102633388268</td>\n",
       "      <td>1.205689</td>\n",
       "      <td>1.070234</td>\n",
       "      <td>False</td>\n",
       "      <td>45.0</td>\n",
       "      <td>6.768137412412545e+18</td>\n",
       "      <td>NaN</td>\n",
       "      <td>3.072849339937028e+18</td>\n",
       "      <td>2733035977666442898</td>\n",
       "      <td>NaN</td>\n",
       "      <td>19.013000</td>\n",
       "      <td>0.035</td>\n",
       "      <td>0.431</td>\n",
       "      <td>1891515180541284343</td>\n",
       "      <td>4368617728156436525</td>\n",
       "    </tr>\n",
       "    <tr>\n",
       "      <th>X5XTOcYQovkl6yadYdAD7xioVGU9jiY</th>\n",
       "      <td>2</td>\n",
       "      <td>NaN</td>\n",
       "      <td>3</td>\n",
       "      <td>2019-03-06 03:32:55.570</td>\n",
       "      <td>6333597102633388268</td>\n",
       "      <td>1.205689</td>\n",
       "      <td>1.070234</td>\n",
       "      <td>False</td>\n",
       "      <td>45.0</td>\n",
       "      <td>6.768137412412545e+18</td>\n",
       "      <td>NaN</td>\n",
       "      <td>3.072849339937028e+18</td>\n",
       "      <td>2733035977666442898</td>\n",
       "      <td>NaN</td>\n",
       "      <td>28.110001</td>\n",
       "      <td>0.054</td>\n",
       "      <td>0.423</td>\n",
       "      <td>1891515180541284343</td>\n",
       "      <td>4368617728156436525</td>\n",
       "    </tr>\n",
       "  </tbody>\n",
       "</table>\n",
       "</div>"
      ],
      "text/plain": [
       "                                 advertiser_id  action_id  source_id  \\\n",
       "trans_id                                                               \n",
       "iGgClCM9exiHF4K31g94XmvHEBSLKIY              2        NaN          4   \n",
       "MMHTOJ6qKAOeIH_Eywh1KIcCaxtO9oM              0        NaN          0   \n",
       "vIrEIdf9izUaWdAri6Ezk7T3nHFvNQU              0        NaN          0   \n",
       "YaKxxEAs2UmZhSpRfiCO9Zpa82B_AKM              2        NaN          3   \n",
       "X5XTOcYQovkl6yadYdAD7xioVGU9jiY              2        NaN          3   \n",
       "\n",
       "                                                created         country_code  \\\n",
       "trans_id                                                                       \n",
       "iGgClCM9exiHF4K31g94XmvHEBSLKIY 2019-03-06 22:42:12.755  6333597102633388268   \n",
       "MMHTOJ6qKAOeIH_Eywh1KIcCaxtO9oM 2019-03-08 10:24:30.641  6333597102633388268   \n",
       "vIrEIdf9izUaWdAri6Ezk7T3nHFvNQU 2019-03-08 15:24:16.069  6333597102633388268   \n",
       "YaKxxEAs2UmZhSpRfiCO9Zpa82B_AKM 2019-03-06 03:08:51.543  6333597102633388268   \n",
       "X5XTOcYQovkl6yadYdAD7xioVGU9jiY 2019-03-06 03:32:55.570  6333597102633388268   \n",
       "\n",
       "                                 latitude  longitude  wifi_connection  \\\n",
       "trans_id                                                                \n",
       "iGgClCM9exiHF4K31g94XmvHEBSLKIY  1.205689   1.070234            False   \n",
       "MMHTOJ6qKAOeIH_Eywh1KIcCaxtO9oM  1.218924   1.071209            False   \n",
       "vIrEIdf9izUaWdAri6Ezk7T3nHFvNQU  1.205689   1.070234            False   \n",
       "YaKxxEAs2UmZhSpRfiCO9Zpa82B_AKM  1.205689   1.070234            False   \n",
       "X5XTOcYQovkl6yadYdAD7xioVGU9jiY  1.205689   1.070234            False   \n",
       "\n",
       "                                 carrier_id               os_minor  \\\n",
       "trans_id                                                             \n",
       "iGgClCM9exiHF4K31g94XmvHEBSLKIY         1.0  6.768137412412545e+18   \n",
       "MMHTOJ6qKAOeIH_Eywh1KIcCaxtO9oM         4.0  3.025219449024123e+18   \n",
       "vIrEIdf9izUaWdAri6Ezk7T3nHFvNQU         6.0   5.97565607170903e+18   \n",
       "YaKxxEAs2UmZhSpRfiCO9Zpa82B_AKM        45.0  6.768137412412545e+18   \n",
       "X5XTOcYQovkl6yadYdAD7xioVGU9jiY        45.0  6.768137412412545e+18   \n",
       "\n",
       "                                 agent_device               os_major  \\\n",
       "trans_id                                                               \n",
       "iGgClCM9exiHF4K31g94XmvHEBSLKIY           NaN  3.072849339937028e+18   \n",
       "MMHTOJ6qKAOeIH_Eywh1KIcCaxtO9oM           NaN   1.77408510258909e+18   \n",
       "vIrEIdf9izUaWdAri6Ezk7T3nHFvNQU           NaN  3.072849339937028e+18   \n",
       "YaKxxEAs2UmZhSpRfiCO9Zpa82B_AKM           NaN  3.072849339937028e+18   \n",
       "X5XTOcYQovkl6yadYdAD7xioVGU9jiY           NaN  3.072849339937028e+18   \n",
       "\n",
       "                                         specs_brand  brand  timeToClick  \\\n",
       "trans_id                                                                   \n",
       "iGgClCM9exiHF4K31g94XmvHEBSLKIY  2733035977666442898    NaN     1.563000   \n",
       "MMHTOJ6qKAOeIH_Eywh1KIcCaxtO9oM   392184377613098015    NaN          NaN   \n",
       "vIrEIdf9izUaWdAri6Ezk7T3nHFvNQU   392184377613098015    NaN          NaN   \n",
       "YaKxxEAs2UmZhSpRfiCO9Zpa82B_AKM  2733035977666442898    NaN    19.013000   \n",
       "X5XTOcYQovkl6yadYdAD7xioVGU9jiY  2733035977666442898    NaN    28.110001   \n",
       "\n",
       "                                 touchX  touchY             ref_type  \\\n",
       "trans_id                                                               \n",
       "iGgClCM9exiHF4K31g94XmvHEBSLKIY   0.905   0.078  1891515180541284343   \n",
       "MMHTOJ6qKAOeIH_Eywh1KIcCaxtO9oM     NaN     NaN  1891515180541284343   \n",
       "vIrEIdf9izUaWdAri6Ezk7T3nHFvNQU   0.946   0.473  1891515180541284343   \n",
       "YaKxxEAs2UmZhSpRfiCO9Zpa82B_AKM   0.035   0.431  1891515180541284343   \n",
       "X5XTOcYQovkl6yadYdAD7xioVGU9jiY   0.054   0.423  1891515180541284343   \n",
       "\n",
       "                                            ref_hash  \n",
       "trans_id                                              \n",
       "iGgClCM9exiHF4K31g94XmvHEBSLKIY  1904083516767779093  \n",
       "MMHTOJ6qKAOeIH_Eywh1KIcCaxtO9oM  3086509764961796666  \n",
       "vIrEIdf9izUaWdAri6Ezk7T3nHFvNQU  6958163894863846647  \n",
       "YaKxxEAs2UmZhSpRfiCO9Zpa82B_AKM  4368617728156436525  \n",
       "X5XTOcYQovkl6yadYdAD7xioVGU9jiY  4368617728156436525  "
      ]
     },
     "execution_count": 9,
     "metadata": {},
     "output_type": "execute_result"
    }
   ],
   "source": [
    "clicksDF.head(5)"
   ]
  },
  {
   "cell_type": "code",
   "execution_count": 11,
   "metadata": {},
   "outputs": [
    {
     "data": {
      "text/plain": [
       "(26351, 19)"
      ]
     },
     "execution_count": 11,
     "metadata": {},
     "output_type": "execute_result"
    }
   ],
   "source": [
    "clicksDF.shape"
   ]
  },
  {
   "cell_type": "code",
   "execution_count": 10,
   "metadata": {},
   "outputs": [
    {
     "data": {
      "text/html": [
       "<div>\n",
       "<style scoped>\n",
       "    .dataframe tbody tr th:only-of-type {\n",
       "        vertical-align: middle;\n",
       "    }\n",
       "\n",
       "    .dataframe tbody tr th {\n",
       "        vertical-align: top;\n",
       "    }\n",
       "\n",
       "    .dataframe thead th {\n",
       "        text-align: right;\n",
       "    }\n",
       "</style>\n",
       "<table border=\"1\" class=\"dataframe\">\n",
       "  <thead>\n",
       "    <tr style=\"text-align: right;\">\n",
       "      <th></th>\n",
       "      <th>created</th>\n",
       "      <th>application_id</th>\n",
       "      <th>ref_type</th>\n",
       "      <th>click_hash</th>\n",
       "      <th>attributed</th>\n",
       "      <th>implicit</th>\n",
       "      <th>device_countrycode</th>\n",
       "      <th>device_brand</th>\n",
       "      <th>device_model</th>\n",
       "      <th>session_user_agent</th>\n",
       "      <th>user_agent</th>\n",
       "      <th>event_uuid</th>\n",
       "      <th>kind</th>\n",
       "      <th>wifi</th>\n",
       "      <th>trans_id</th>\n",
       "      <th>ip_address</th>\n",
       "      <th>device_language</th>\n",
       "    </tr>\n",
       "    <tr>\n",
       "      <th>ref_hash</th>\n",
       "      <th></th>\n",
       "      <th></th>\n",
       "      <th></th>\n",
       "      <th></th>\n",
       "      <th></th>\n",
       "      <th></th>\n",
       "      <th></th>\n",
       "      <th></th>\n",
       "      <th></th>\n",
       "      <th></th>\n",
       "      <th></th>\n",
       "      <th></th>\n",
       "      <th></th>\n",
       "      <th></th>\n",
       "      <th></th>\n",
       "      <th></th>\n",
       "      <th></th>\n",
       "    </tr>\n",
       "  </thead>\n",
       "  <tbody>\n",
       "    <tr>\n",
       "      <th>8464844987297247076</th>\n",
       "      <td>2019-03-13 01:43:33.445</td>\n",
       "      <td>0</td>\n",
       "      <td>1891515180541284343</td>\n",
       "      <td>NaN</td>\n",
       "      <td>False</td>\n",
       "      <td>False</td>\n",
       "      <td>6333597102633388268</td>\n",
       "      <td>3.083058605577787e+17</td>\n",
       "      <td>4.445252e+18</td>\n",
       "      <td>NaN</td>\n",
       "      <td>NaN</td>\n",
       "      <td>NaN</td>\n",
       "      <td>NaN</td>\n",
       "      <td>NaN</td>\n",
       "      <td>NaN</td>\n",
       "      <td>5529284367937637301</td>\n",
       "      <td>NaN</td>\n",
       "    </tr>\n",
       "    <tr>\n",
       "      <th>3250564871270161533</th>\n",
       "      <td>2019-03-13 04:58:35.078</td>\n",
       "      <td>0</td>\n",
       "      <td>1891515180541284343</td>\n",
       "      <td>NaN</td>\n",
       "      <td>False</td>\n",
       "      <td>False</td>\n",
       "      <td>6333597102633388268</td>\n",
       "      <td>3.083058605577787e+17</td>\n",
       "      <td>4.445252e+18</td>\n",
       "      <td>NaN</td>\n",
       "      <td>NaN</td>\n",
       "      <td>NaN</td>\n",
       "      <td>NaN</td>\n",
       "      <td>NaN</td>\n",
       "      <td>NaN</td>\n",
       "      <td>6098022721363533304</td>\n",
       "      <td>NaN</td>\n",
       "    </tr>\n",
       "    <tr>\n",
       "      <th>7953318831018100268</th>\n",
       "      <td>2019-03-13 04:20:57.666</td>\n",
       "      <td>0</td>\n",
       "      <td>1891515180541284343</td>\n",
       "      <td>NaN</td>\n",
       "      <td>False</td>\n",
       "      <td>True</td>\n",
       "      <td>6333597102633388268</td>\n",
       "      <td>5.1379920467642125e+17</td>\n",
       "      <td>6.026543e+18</td>\n",
       "      <td>HasOffers Mobile AppTracking v1.0</td>\n",
       "      <td>NaN</td>\n",
       "      <td>0bfa9b4c-e07a-4522-b32d-138e3165ac98</td>\n",
       "      <td>Open</td>\n",
       "      <td>NaN</td>\n",
       "      <td>NaN</td>\n",
       "      <td>4636407223847323867</td>\n",
       "      <td>3.301378e+18</td>\n",
       "    </tr>\n",
       "    <tr>\n",
       "      <th>7953318831018100268</th>\n",
       "      <td>2019-03-13 04:20:57.698</td>\n",
       "      <td>0</td>\n",
       "      <td>1891515180541284343</td>\n",
       "      <td>NaN</td>\n",
       "      <td>False</td>\n",
       "      <td>False</td>\n",
       "      <td>6333597102633388268</td>\n",
       "      <td>5.1379920467642125e+17</td>\n",
       "      <td>6.026543e+18</td>\n",
       "      <td>NaN</td>\n",
       "      <td>NaN</td>\n",
       "      <td>NaN</td>\n",
       "      <td>NaN</td>\n",
       "      <td>NaN</td>\n",
       "      <td>NaN</td>\n",
       "      <td>4636407223847323867</td>\n",
       "      <td>NaN</td>\n",
       "    </tr>\n",
       "    <tr>\n",
       "      <th>8355110941557237501</th>\n",
       "      <td>2019-03-10 22:24:56.684</td>\n",
       "      <td>0</td>\n",
       "      <td>1891515180541284343</td>\n",
       "      <td>NaN</td>\n",
       "      <td>False</td>\n",
       "      <td>True</td>\n",
       "      <td>6333597102633388268</td>\n",
       "      <td>1.083368711068078e+18</td>\n",
       "      <td>7.876612e+18</td>\n",
       "      <td>HasOffers Mobile AppTracking v1.0</td>\n",
       "      <td>NaN</td>\n",
       "      <td>8f235a8c-41bf-4399-b33d-c41577c949b0</td>\n",
       "      <td>Open</td>\n",
       "      <td>NaN</td>\n",
       "      <td>NaN</td>\n",
       "      <td>685400811232710215</td>\n",
       "      <td>3.301378e+18</td>\n",
       "    </tr>\n",
       "  </tbody>\n",
       "</table>\n",
       "</div>"
      ],
      "text/plain": [
       "                                    created  application_id  \\\n",
       "ref_hash                                                      \n",
       "8464844987297247076 2019-03-13 01:43:33.445               0   \n",
       "3250564871270161533 2019-03-13 04:58:35.078               0   \n",
       "7953318831018100268 2019-03-13 04:20:57.666               0   \n",
       "7953318831018100268 2019-03-13 04:20:57.698               0   \n",
       "8355110941557237501 2019-03-10 22:24:56.684               0   \n",
       "\n",
       "                                ref_type  click_hash  attributed  implicit  \\\n",
       "ref_hash                                                                     \n",
       "8464844987297247076  1891515180541284343         NaN       False     False   \n",
       "3250564871270161533  1891515180541284343         NaN       False     False   \n",
       "7953318831018100268  1891515180541284343         NaN       False      True   \n",
       "7953318831018100268  1891515180541284343         NaN       False     False   \n",
       "8355110941557237501  1891515180541284343         NaN       False      True   \n",
       "\n",
       "                      device_countrycode            device_brand  \\\n",
       "ref_hash                                                           \n",
       "8464844987297247076  6333597102633388268   3.083058605577787e+17   \n",
       "3250564871270161533  6333597102633388268   3.083058605577787e+17   \n",
       "7953318831018100268  6333597102633388268  5.1379920467642125e+17   \n",
       "7953318831018100268  6333597102633388268  5.1379920467642125e+17   \n",
       "8355110941557237501  6333597102633388268   1.083368711068078e+18   \n",
       "\n",
       "                     device_model                 session_user_agent  \\\n",
       "ref_hash                                                               \n",
       "8464844987297247076  4.445252e+18                                NaN   \n",
       "3250564871270161533  4.445252e+18                                NaN   \n",
       "7953318831018100268  6.026543e+18  HasOffers Mobile AppTracking v1.0   \n",
       "7953318831018100268  6.026543e+18                                NaN   \n",
       "8355110941557237501  7.876612e+18  HasOffers Mobile AppTracking v1.0   \n",
       "\n",
       "                    user_agent                            event_uuid  kind  \\\n",
       "ref_hash                                                                     \n",
       "8464844987297247076        NaN                                   NaN   NaN   \n",
       "3250564871270161533        NaN                                   NaN   NaN   \n",
       "7953318831018100268        NaN  0bfa9b4c-e07a-4522-b32d-138e3165ac98  Open   \n",
       "7953318831018100268        NaN                                   NaN   NaN   \n",
       "8355110941557237501        NaN  8f235a8c-41bf-4399-b33d-c41577c949b0  Open   \n",
       "\n",
       "                    wifi trans_id           ip_address  device_language  \n",
       "ref_hash                                                                 \n",
       "8464844987297247076  NaN      NaN  5529284367937637301              NaN  \n",
       "3250564871270161533  NaN      NaN  6098022721363533304              NaN  \n",
       "7953318831018100268  NaN      NaN  4636407223847323867     3.301378e+18  \n",
       "7953318831018100268  NaN      NaN  4636407223847323867              NaN  \n",
       "8355110941557237501  NaN      NaN   685400811232710215     3.301378e+18  "
      ]
     },
     "execution_count": 10,
     "metadata": {},
     "output_type": "execute_result"
    }
   ],
   "source": [
    "installsDF.head(5)"
   ]
  },
  {
   "cell_type": "code",
   "execution_count": 12,
   "metadata": {},
   "outputs": [
    {
     "data": {
      "text/plain": [
       "(3412, 17)"
      ]
     },
     "execution_count": 12,
     "metadata": {},
     "output_type": "execute_result"
    }
   ],
   "source": [
    "installsDF.shape"
   ]
  },
  {
   "cell_type": "code",
   "execution_count": 89,
   "metadata": {},
   "outputs": [
    {
     "data": {
      "text/html": [
       "<div>\n",
       "<style scoped>\n",
       "    .dataframe tbody tr th:only-of-type {\n",
       "        vertical-align: middle;\n",
       "    }\n",
       "\n",
       "    .dataframe tbody tr th {\n",
       "        vertical-align: top;\n",
       "    }\n",
       "\n",
       "    .dataframe thead th {\n",
       "        text-align: right;\n",
       "    }\n",
       "</style>\n",
       "<table border=\"1\" class=\"dataframe\">\n",
       "  <thead>\n",
       "    <tr style=\"text-align: right;\">\n",
       "      <th></th>\n",
       "      <th>auction_type_id</th>\n",
       "      <th>country</th>\n",
       "      <th>date</th>\n",
       "      <th>device_id</th>\n",
       "      <th>platform</th>\n",
       "      <th>ref_type_id</th>\n",
       "      <th>source_id</th>\n",
       "    </tr>\n",
       "  </thead>\n",
       "  <tbody>\n",
       "    <tr>\n",
       "      <th>0</th>\n",
       "      <td>NaN</td>\n",
       "      <td>6333597102633388268</td>\n",
       "      <td>2019-03-11 14:18:33.290763</td>\n",
       "      <td>6059599345986491085</td>\n",
       "      <td>1</td>\n",
       "      <td>1</td>\n",
       "      <td>0</td>\n",
       "    </tr>\n",
       "    <tr>\n",
       "      <th>1</th>\n",
       "      <td>NaN</td>\n",
       "      <td>6333597102633388268</td>\n",
       "      <td>2019-03-11 14:18:34.440157</td>\n",
       "      <td>1115994996230693426</td>\n",
       "      <td>1</td>\n",
       "      <td>1</td>\n",
       "      <td>0</td>\n",
       "    </tr>\n",
       "    <tr>\n",
       "      <th>2</th>\n",
       "      <td>NaN</td>\n",
       "      <td>6333597102633388268</td>\n",
       "      <td>2019-03-11 14:18:35.862360</td>\n",
       "      <td>7463856250762200923</td>\n",
       "      <td>1</td>\n",
       "      <td>1</td>\n",
       "      <td>0</td>\n",
       "    </tr>\n",
       "    <tr>\n",
       "      <th>3</th>\n",
       "      <td>NaN</td>\n",
       "      <td>6333597102633388268</td>\n",
       "      <td>2019-03-11 14:18:36.167163</td>\n",
       "      <td>7829815350267792040</td>\n",
       "      <td>1</td>\n",
       "      <td>1</td>\n",
       "      <td>0</td>\n",
       "    </tr>\n",
       "    <tr>\n",
       "      <th>4</th>\n",
       "      <td>NaN</td>\n",
       "      <td>6333597102633388268</td>\n",
       "      <td>2019-03-11 14:18:37.728590</td>\n",
       "      <td>1448534231953777480</td>\n",
       "      <td>1</td>\n",
       "      <td>1</td>\n",
       "      <td>0</td>\n",
       "    </tr>\n",
       "  </tbody>\n",
       "</table>\n",
       "</div>"
      ],
      "text/plain": [
       "   auction_type_id              country                        date  \\\n",
       "0              NaN  6333597102633388268  2019-03-11 14:18:33.290763   \n",
       "1              NaN  6333597102633388268  2019-03-11 14:18:34.440157   \n",
       "2              NaN  6333597102633388268  2019-03-11 14:18:35.862360   \n",
       "3              NaN  6333597102633388268  2019-03-11 14:18:36.167163   \n",
       "4              NaN  6333597102633388268  2019-03-11 14:18:37.728590   \n",
       "\n",
       "             device_id platform ref_type_id  source_id  \n",
       "0  6059599345986491085        1           1          0  \n",
       "1  1115994996230693426        1           1          0  \n",
       "2  7463856250762200923        1           1          0  \n",
       "3  7829815350267792040        1           1          0  \n",
       "4  1448534231953777480        1           1          0  "
      ]
     },
     "execution_count": 89,
     "metadata": {},
     "output_type": "execute_result"
    }
   ],
   "source": [
    "auctionsDF.head()"
   ]
  },
  {
   "cell_type": "code",
   "execution_count": 98,
   "metadata": {},
   "outputs": [
    {
     "data": {
      "text/plain": [
       "6333597102633388268    19571319\n",
       "Name: country, dtype: int64"
      ]
     },
     "execution_count": 98,
     "metadata": {},
     "output_type": "execute_result"
    }
   ],
   "source": [
    "auctionsDF['country'].value_counts()\n",
    "#ignoramos country como variable por ser un único país"
   ]
  },
  {
   "cell_type": "markdown",
   "metadata": {},
   "source": [
    "## Let's try some joins"
   ]
  },
  {
   "cell_type": "markdown",
   "metadata": {},
   "source": [
    "### Interseccion de los grupos de usarios clicks con eventos, clicks con installs"
   ]
  },
  {
   "cell_type": "code",
   "execution_count": null,
   "metadata": {},
   "outputs": [],
   "source": []
  },
  {
   "cell_type": "code",
   "execution_count": 4,
   "metadata": {},
   "outputs": [
    {
     "data": {
      "text/html": [
       "<div>\n",
       "<style scoped>\n",
       "    .dataframe tbody tr th:only-of-type {\n",
       "        vertical-align: middle;\n",
       "    }\n",
       "\n",
       "    .dataframe tbody tr th {\n",
       "        vertical-align: top;\n",
       "    }\n",
       "\n",
       "    .dataframe thead th {\n",
       "        text-align: right;\n",
       "    }\n",
       "</style>\n",
       "<table border=\"1\" class=\"dataframe\">\n",
       "  <thead>\n",
       "    <tr style=\"text-align: right;\">\n",
       "      <th></th>\n",
       "      <th>ref_hash</th>\n",
       "      <th>created_x</th>\n",
       "      <th>application_id</th>\n",
       "      <th>ref_type_x</th>\n",
       "      <th>click_hash</th>\n",
       "      <th>attributed</th>\n",
       "      <th>implicit</th>\n",
       "      <th>device_countrycode</th>\n",
       "      <th>device_brand</th>\n",
       "      <th>device_model</th>\n",
       "      <th>...</th>\n",
       "      <th>carrier_id</th>\n",
       "      <th>os_minor</th>\n",
       "      <th>agent_device</th>\n",
       "      <th>os_major</th>\n",
       "      <th>specs_brand</th>\n",
       "      <th>brand</th>\n",
       "      <th>timeToClick</th>\n",
       "      <th>touchX</th>\n",
       "      <th>touchY</th>\n",
       "      <th>ref_type_y</th>\n",
       "    </tr>\n",
       "  </thead>\n",
       "  <tbody>\n",
       "    <tr>\n",
       "      <th>0</th>\n",
       "      <td>1254317779988816837</td>\n",
       "      <td>2019-03-06 03:30:01.796</td>\n",
       "      <td>8</td>\n",
       "      <td>1494519392962156891</td>\n",
       "      <td>NaN</td>\n",
       "      <td>False</td>\n",
       "      <td>False</td>\n",
       "      <td>2970470518450881158</td>\n",
       "      <td>NaN</td>\n",
       "      <td>1.990627e+18</td>\n",
       "      <td>...</td>\n",
       "      <td>3.0</td>\n",
       "      <td>3.39996159531154e+18</td>\n",
       "      <td>3.516812e+18</td>\n",
       "      <td>6.693578508358796e+18</td>\n",
       "      <td>2733035977666442898</td>\n",
       "      <td>NaN</td>\n",
       "      <td>NaN</td>\n",
       "      <td>NaN</td>\n",
       "      <td>NaN</td>\n",
       "      <td>1494519392962156891</td>\n",
       "    </tr>\n",
       "    <tr>\n",
       "      <th>1</th>\n",
       "      <td>582930240149217282</td>\n",
       "      <td>2019-03-06 21:33:40.647</td>\n",
       "      <td>7</td>\n",
       "      <td>1891515180541284343</td>\n",
       "      <td>NaN</td>\n",
       "      <td>False</td>\n",
       "      <td>False</td>\n",
       "      <td>2970470518450881158</td>\n",
       "      <td>NaN</td>\n",
       "      <td>6.882415e+18</td>\n",
       "      <td>...</td>\n",
       "      <td>13.0</td>\n",
       "      <td>6.391567095202501e+18</td>\n",
       "      <td>6.882415e+18</td>\n",
       "      <td>7.452405704979208e+18</td>\n",
       "      <td>2733035977666442898</td>\n",
       "      <td>NaN</td>\n",
       "      <td>2.253</td>\n",
       "      <td>0.900</td>\n",
       "      <td>0.097</td>\n",
       "      <td>1891515180541284343</td>\n",
       "    </tr>\n",
       "    <tr>\n",
       "      <th>2</th>\n",
       "      <td>582930240149217282</td>\n",
       "      <td>2019-03-06 21:33:40.647</td>\n",
       "      <td>7</td>\n",
       "      <td>1891515180541284343</td>\n",
       "      <td>NaN</td>\n",
       "      <td>False</td>\n",
       "      <td>False</td>\n",
       "      <td>2970470518450881158</td>\n",
       "      <td>NaN</td>\n",
       "      <td>6.882415e+18</td>\n",
       "      <td>...</td>\n",
       "      <td>13.0</td>\n",
       "      <td>6.391567095202501e+18</td>\n",
       "      <td>6.882415e+18</td>\n",
       "      <td>7.452405704979208e+18</td>\n",
       "      <td>2733035977666442898</td>\n",
       "      <td>NaN</td>\n",
       "      <td>3.493</td>\n",
       "      <td>0.904</td>\n",
       "      <td>0.097</td>\n",
       "      <td>1891515180541284343</td>\n",
       "    </tr>\n",
       "    <tr>\n",
       "      <th>3</th>\n",
       "      <td>582930240149217282</td>\n",
       "      <td>2019-03-06 21:33:40.647</td>\n",
       "      <td>7</td>\n",
       "      <td>1891515180541284343</td>\n",
       "      <td>NaN</td>\n",
       "      <td>False</td>\n",
       "      <td>False</td>\n",
       "      <td>2970470518450881158</td>\n",
       "      <td>NaN</td>\n",
       "      <td>6.882415e+18</td>\n",
       "      <td>...</td>\n",
       "      <td>13.0</td>\n",
       "      <td>6.391567095202501e+18</td>\n",
       "      <td>6.882415e+18</td>\n",
       "      <td>7.452405704979208e+18</td>\n",
       "      <td>2733035977666442898</td>\n",
       "      <td>NaN</td>\n",
       "      <td>1.849</td>\n",
       "      <td>0.821</td>\n",
       "      <td>0.097</td>\n",
       "      <td>1891515180541284343</td>\n",
       "    </tr>\n",
       "    <tr>\n",
       "      <th>4</th>\n",
       "      <td>582930240149217282</td>\n",
       "      <td>2019-03-06 21:33:40.647</td>\n",
       "      <td>7</td>\n",
       "      <td>1891515180541284343</td>\n",
       "      <td>NaN</td>\n",
       "      <td>False</td>\n",
       "      <td>False</td>\n",
       "      <td>2970470518450881158</td>\n",
       "      <td>NaN</td>\n",
       "      <td>6.882415e+18</td>\n",
       "      <td>...</td>\n",
       "      <td>13.0</td>\n",
       "      <td>6.391567095202501e+18</td>\n",
       "      <td>6.882415e+18</td>\n",
       "      <td>7.452405704979208e+18</td>\n",
       "      <td>2733035977666442898</td>\n",
       "      <td>NaN</td>\n",
       "      <td>1.513</td>\n",
       "      <td>0.909</td>\n",
       "      <td>0.096</td>\n",
       "      <td>1891515180541284343</td>\n",
       "    </tr>\n",
       "  </tbody>\n",
       "</table>\n",
       "<p>5 rows × 36 columns</p>\n",
       "</div>"
      ],
      "text/plain": [
       "              ref_hash               created_x  application_id  \\\n",
       "0  1254317779988816837 2019-03-06 03:30:01.796               8   \n",
       "1   582930240149217282 2019-03-06 21:33:40.647               7   \n",
       "2   582930240149217282 2019-03-06 21:33:40.647               7   \n",
       "3   582930240149217282 2019-03-06 21:33:40.647               7   \n",
       "4   582930240149217282 2019-03-06 21:33:40.647               7   \n",
       "\n",
       "            ref_type_x  click_hash  attributed  implicit   device_countrycode  \\\n",
       "0  1494519392962156891         NaN       False     False  2970470518450881158   \n",
       "1  1891515180541284343         NaN       False     False  2970470518450881158   \n",
       "2  1891515180541284343         NaN       False     False  2970470518450881158   \n",
       "3  1891515180541284343         NaN       False     False  2970470518450881158   \n",
       "4  1891515180541284343         NaN       False     False  2970470518450881158   \n",
       "\n",
       "  device_brand  device_model         ...          carrier_id  \\\n",
       "0          NaN  1.990627e+18         ...                 3.0   \n",
       "1          NaN  6.882415e+18         ...                13.0   \n",
       "2          NaN  6.882415e+18         ...                13.0   \n",
       "3          NaN  6.882415e+18         ...                13.0   \n",
       "4          NaN  6.882415e+18         ...                13.0   \n",
       "\n",
       "                os_minor  agent_device               os_major  \\\n",
       "0   3.39996159531154e+18  3.516812e+18  6.693578508358796e+18   \n",
       "1  6.391567095202501e+18  6.882415e+18  7.452405704979208e+18   \n",
       "2  6.391567095202501e+18  6.882415e+18  7.452405704979208e+18   \n",
       "3  6.391567095202501e+18  6.882415e+18  7.452405704979208e+18   \n",
       "4  6.391567095202501e+18  6.882415e+18  7.452405704979208e+18   \n",
       "\n",
       "           specs_brand brand  timeToClick  touchX  touchY           ref_type_y  \n",
       "0  2733035977666442898   NaN          NaN     NaN     NaN  1494519392962156891  \n",
       "1  2733035977666442898   NaN        2.253   0.900   0.097  1891515180541284343  \n",
       "2  2733035977666442898   NaN        3.493   0.904   0.097  1891515180541284343  \n",
       "3  2733035977666442898   NaN        1.849   0.821   0.097  1891515180541284343  \n",
       "4  2733035977666442898   NaN        1.513   0.909   0.096  1891515180541284343  \n",
       "\n",
       "[5 rows x 36 columns]"
      ]
     },
     "execution_count": 4,
     "metadata": {},
     "output_type": "execute_result"
    }
   ],
   "source": [
    "clicks_installsDF = pd.merge(installsDF, clicksDF, on='ref_hash', how='inner')\n",
    "clicks_installsDF.head()\n"
   ]
  },
  {
   "cell_type": "code",
   "execution_count": 224,
   "metadata": {},
   "outputs": [
    {
     "data": {
      "text/plain": [
       "(709, 2)"
      ]
     },
     "execution_count": 224,
     "metadata": {},
     "output_type": "execute_result"
    }
   ],
   "source": [
    "#ins_cli_x_userDF = clicks_installsDF.groupby(['ref_hash', 'ref_type_x',]).size().reset_index().rename(columns={0:'total'})\n",
    "#Installs, events y clicks por usario\n",
    "installs_x_userDF = installsDF.groupby(['ref_hash']).size().reset_index().rename(columns={0:'total'})\n",
    "clicks_x_userDF = clicksDF.groupby(['ref_hash']).size().reset_index().rename(columns={0:'total'})\n",
    "#al haber eventos atribuidos de Jampp, nos interesa tomar esos y no el total para este caso\n",
    "events_x_userDF = eventsDF.loc[eventsDF['attributed']==True].groupby(['ref_hash']).size().reset_index().rename(columns={0:'total'})\n"
   ]
  },
  {
   "cell_type": "code",
   "execution_count": null,
   "metadata": {},
   "outputs": [],
   "source": []
  },
  {
   "cell_type": "markdown",
   "metadata": {},
   "source": [
    "### Proporción e intersección entre clicks e installs segun User"
   ]
  },
  {
   "cell_type": "code",
   "execution_count": 374,
   "metadata": {},
   "outputs": [
    {
     "data": {
      "image/png": "[encoded data removed]",
      "text/plain": [
       "<Figure size 864x648 with 1 Axes>"
      ]
     },
     "metadata": {},
     "output_type": "display_data"
    }
   ],
   "source": [
    "#plot del total de users venn (clicks, installs)\n",
    "import matplotlib.pyplot as plt\n",
    "#from matplotlib.pyplot import figure\n",
    "from matplotlib_venn import venn2\n",
    "\n",
    "venn2([set(installs_x_userDF['ref_hash']), set(clicks_x_userDF['ref_hash'])], set_labels=('Installs', 'Clicks'))\n",
    "plt.show()"
   ]
  },
  {
   "cell_type": "markdown",
   "metadata": {},
   "source": [
    "###           Intersection between Installs and Clicks for the same user"
   ]
  },
  {
   "cell_type": "markdown",
   "metadata": {},
   "source": [
    "### Proporción entre clicks Y events segun User"
   ]
  },
  {
   "cell_type": "code",
   "execution_count": 377,
   "metadata": {},
   "outputs": [
    {
     "data": {
      "image/png": "[encoded data removed]",
      "text/plain": [
       "<Figure size 864x648 with 1 Axes>"
      ]
     },
     "metadata": {},
     "output_type": "display_data"
    }
   ],
   "source": [
    "#plot del total de users venn (clicks, events)\n",
    "import matplotlib.pyplot as plt\n",
    "#from matplotlib.pyplot import figure\n",
    "from matplotlib_venn import venn2\n",
    "\n",
    "venn2([set(events_x_userDF['ref_hash']), set (clicks_x_userDF['ref_hash'])], set_labels=('Events', 'Clicks'))\n",
    "plt.show()"
   ]
  },
  {
   "cell_type": "markdown",
   "metadata": {},
   "source": [
    "###           Intersection between Events and Clicks by user"
   ]
  },
  {
   "cell_type": "code",
   "execution_count": 78,
   "metadata": {},
   "outputs": [
    {
     "data": {
      "text/plain": [
       "[None]"
      ]
     },
     "execution_count": 78,
     "metadata": {},
     "output_type": "execute_result"
    },
    {
     "data": {
      "image/png": "[encoded data removed]",
      "text/plain": [
       "<Figure size 432x288 with 1 Axes>"
      ]
     },
     "metadata": {
      "needs_background": "light"
     },
     "output_type": "display_data"
    }
   ],
   "source": [
    "#lollipop plot del histograma de clicks x user - no nos interesa tanto\n",
    "(markerline, stemlines, baseline) = plt.stem(clicks_x_userDF['ref_hash'], clicks_x_userDF['total'])\n",
    "plt.setp(baseline, visible=False)"
   ]
  },
  {
   "cell_type": "code",
   "execution_count": null,
   "metadata": {},
   "outputs": [],
   "source": []
  },
  {
   "cell_type": "code",
   "execution_count": 66,
   "metadata": {},
   "outputs": [
    {
     "data": {
      "text/plain": [
       "<BarContainer object of 709 artists>"
      ]
     },
     "execution_count": 66,
     "metadata": {},
     "output_type": "execute_result"
    },
    {
     "data": {
      "image/png": "[encoded data removed]",
      "text/plain": [
       "<Figure size 432x288 with 1 Axes>"
      ]
     },
     "metadata": {
      "needs_background": "light"
     },
     "output_type": "display_data"
    }
   ],
   "source": [
    "#plot del histograma de installs x user\n",
    "height = (events_x_userDF['total'])\n",
    "bars = (events_x_userDF['ref_hash'])\n",
    "y_pos = np.arange(len(bars))\n",
    "plt.bar(y_pos,height)"
   ]
  },
  {
   "cell_type": "code",
   "execution_count": 227,
   "metadata": {},
   "outputs": [],
   "source": [
    "#events per user solo de jampp\n",
    "events_x_userDF = eventsDF.loc[eventsDF['attributed']==True].groupby(['ref_hash']).size().reset_index().rename(columns={0:'total'})\n",
    "#events_x_userDF.shape"
   ]
  },
  {
   "cell_type": "markdown",
   "metadata": {},
   "source": [
    "## Eventos x User\n"
   ]
  },
  {
   "cell_type": "code",
   "execution_count": 229,
   "metadata": {},
   "outputs": [
    {
     "data": {
      "text/plain": [
       "[None]"
      ]
     },
     "execution_count": 229,
     "metadata": {},
     "output_type": "execute_result"
    },
    {
     "data": {
      "image/png": "[encoded data removed]",
      "text/plain": [
       "<Figure size 864x648 with 1 Axes>"
      ]
     },
     "metadata": {},
     "output_type": "display_data"
    },
    {
     "data": {
      "text/plain": [
       "<Figure size 1600x880 with 0 Axes>"
      ]
     },
     "metadata": {},
     "output_type": "display_data"
    }
   ],
   "source": [
    "#Visualización lollipop de eventos por usuario\n",
    "plt.title('Events per User', fontsize=18)\n",
    "plt.xlabel('User', fontsize=14)\n",
    "plt.ylabel('Number of Events', fontsize=14)\n",
    "(markerline, stemlines, baseline) = plt.stem(events_x_userDF['ref_hash'], events_x_userDF['total'])\n",
    "figure(num=None, figsize=(20, 11), dpi=80, facecolor='w', edgecolor='k')\n",
    "# change color and shape and size and edges\n",
    "plt.setp(markerline, marker='D', markersize=5, markeredgecolor=\"orange\", markeredgewidth=2)\n",
    "plt.setp(stemlines, alpha=0.6 )\n",
    "plt.setp(baseline, visible=False)\n",
    "#plt.show()"
   ]
  },
  {
   "cell_type": "code",
   "execution_count": null,
   "metadata": {},
   "outputs": [],
   "source": []
  },
  {
   "cell_type": "code",
   "execution_count": 123,
   "metadata": {},
   "outputs": [
    {
     "data": {
      "text/plain": [
       "ref_hash    4153352203585747855\n",
       "total                       158\n",
       "Name: 311, dtype: int64"
      ]
     },
     "execution_count": 123,
     "metadata": {},
     "output_type": "execute_result"
    }
   ],
   "source": [
    "# get the top value\n",
    "events_x_userDF.loc[events_x_userDF['total'].idxmax()]"
   ]
  },
  {
   "cell_type": "code",
   "execution_count": null,
   "metadata": {},
   "outputs": [],
   "source": [
    "#get also the next two rows with the biggest deviation \n",
    "top_3_usersDF=events_x_userDF.loc[events_x_userDF['total']>90]\n",
    "top_3_usersDFevents_x_userDF.loc[events_x_userDF['total'].idxmax()]"
   ]
  },
  {
   "cell_type": "markdown",
   "metadata": {},
   "source": [
    "### (investigando uno de los outliers)"
   ]
  },
  {
   "cell_type": "code",
   "execution_count": 395,
   "metadata": {},
   "outputs": [
    {
     "data": {
      "text/html": [
       "<div>\n",
       "<style scoped>\n",
       "    .dataframe tbody tr th:only-of-type {\n",
       "        vertical-align: middle;\n",
       "    }\n",
       "\n",
       "    .dataframe tbody tr th {\n",
       "        vertical-align: top;\n",
       "    }\n",
       "\n",
       "    .dataframe thead th {\n",
       "        text-align: right;\n",
       "    }\n",
       "</style>\n",
       "<table border=\"1\" class=\"dataframe\">\n",
       "  <thead>\n",
       "    <tr style=\"text-align: right;\">\n",
       "      <th></th>\n",
       "      <th>date</th>\n",
       "      <th>event_id</th>\n",
       "      <th>ref_type</th>\n",
       "      <th>ref_hash</th>\n",
       "      <th>application_id</th>\n",
       "      <th>attributed</th>\n",
       "      <th>device_countrycode</th>\n",
       "      <th>device_os_version</th>\n",
       "      <th>device_brand</th>\n",
       "      <th>device_model</th>\n",
       "      <th>...</th>\n",
       "      <th>session_user_agent</th>\n",
       "      <th>trans_id</th>\n",
       "      <th>user_agent</th>\n",
       "      <th>carrier</th>\n",
       "      <th>kind</th>\n",
       "      <th>device_os</th>\n",
       "      <th>wifi</th>\n",
       "      <th>connection_type</th>\n",
       "      <th>ip_address</th>\n",
       "      <th>device_language</th>\n",
       "    </tr>\n",
       "    <tr>\n",
       "      <th>event_uuid</th>\n",
       "      <th></th>\n",
       "      <th></th>\n",
       "      <th></th>\n",
       "      <th></th>\n",
       "      <th></th>\n",
       "      <th></th>\n",
       "      <th></th>\n",
       "      <th></th>\n",
       "      <th></th>\n",
       "      <th></th>\n",
       "      <th></th>\n",
       "      <th></th>\n",
       "      <th></th>\n",
       "      <th></th>\n",
       "      <th></th>\n",
       "      <th></th>\n",
       "      <th></th>\n",
       "      <th></th>\n",
       "      <th></th>\n",
       "      <th></th>\n",
       "      <th></th>\n",
       "    </tr>\n",
       "  </thead>\n",
       "  <tbody>\n",
       "    <tr>\n",
       "      <th>NaN</th>\n",
       "      <td>2019-03-13 17:29:15.095</td>\n",
       "      <td>40</td>\n",
       "      <td>1891515180541284343</td>\n",
       "      <td>4153352203585747855</td>\n",
       "      <td>45</td>\n",
       "      <td>True</td>\n",
       "      <td>6333597102633388268</td>\n",
       "      <td>8.824599e+18</td>\n",
       "      <td>NaN</td>\n",
       "      <td>2.675149e+18</td>\n",
       "      <td>...</td>\n",
       "      <td>NaN</td>\n",
       "      <td>NaN</td>\n",
       "      <td>NaN</td>\n",
       "      <td>2.2481569642543155e+17</td>\n",
       "      <td>NaN</td>\n",
       "      <td>7.531669e+18</td>\n",
       "      <td>NaN</td>\n",
       "      <td>Cable/DSL</td>\n",
       "      <td>9027356762104797654</td>\n",
       "      <td>3.301378e+18</td>\n",
       "    </tr>\n",
       "    <tr>\n",
       "      <th>NaN</th>\n",
       "      <td>2019-03-13 17:29:19.356</td>\n",
       "      <td>41</td>\n",
       "      <td>1891515180541284343</td>\n",
       "      <td>4153352203585747855</td>\n",
       "      <td>45</td>\n",
       "      <td>True</td>\n",
       "      <td>6333597102633388268</td>\n",
       "      <td>8.824599e+18</td>\n",
       "      <td>NaN</td>\n",
       "      <td>2.675149e+18</td>\n",
       "      <td>...</td>\n",
       "      <td>NaN</td>\n",
       "      <td>NaN</td>\n",
       "      <td>NaN</td>\n",
       "      <td>2.2481569642543155e+17</td>\n",
       "      <td>NaN</td>\n",
       "      <td>7.531669e+18</td>\n",
       "      <td>NaN</td>\n",
       "      <td>Cable/DSL</td>\n",
       "      <td>9027356762104797654</td>\n",
       "      <td>3.301378e+18</td>\n",
       "    </tr>\n",
       "    <tr>\n",
       "      <th>NaN</th>\n",
       "      <td>2019-03-13 17:29:14.413</td>\n",
       "      <td>1</td>\n",
       "      <td>1891515180541284343</td>\n",
       "      <td>4153352203585747855</td>\n",
       "      <td>45</td>\n",
       "      <td>True</td>\n",
       "      <td>6333597102633388268</td>\n",
       "      <td>8.824599e+18</td>\n",
       "      <td>NaN</td>\n",
       "      <td>2.675149e+18</td>\n",
       "      <td>...</td>\n",
       "      <td>NaN</td>\n",
       "      <td>NaN</td>\n",
       "      <td>NaN</td>\n",
       "      <td>2.2481569642543155e+17</td>\n",
       "      <td>NaN</td>\n",
       "      <td>7.531669e+18</td>\n",
       "      <td>NaN</td>\n",
       "      <td>Cable/DSL</td>\n",
       "      <td>9027356762104797654</td>\n",
       "      <td>3.301378e+18</td>\n",
       "    </tr>\n",
       "    <tr>\n",
       "      <th>NaN</th>\n",
       "      <td>2019-03-12 20:22:08.739</td>\n",
       "      <td>40</td>\n",
       "      <td>1891515180541284343</td>\n",
       "      <td>4153352203585747855</td>\n",
       "      <td>45</td>\n",
       "      <td>True</td>\n",
       "      <td>6333597102633388268</td>\n",
       "      <td>8.824599e+18</td>\n",
       "      <td>NaN</td>\n",
       "      <td>2.675149e+18</td>\n",
       "      <td>...</td>\n",
       "      <td>NaN</td>\n",
       "      <td>NaN</td>\n",
       "      <td>NaN</td>\n",
       "      <td>2.2481569642543155e+17</td>\n",
       "      <td>NaN</td>\n",
       "      <td>7.531669e+18</td>\n",
       "      <td>NaN</td>\n",
       "      <td>Cellular</td>\n",
       "      <td>1425482436003722411</td>\n",
       "      <td>3.301378e+18</td>\n",
       "    </tr>\n",
       "    <tr>\n",
       "      <th>NaN</th>\n",
       "      <td>2019-03-12 20:22:23.439</td>\n",
       "      <td>41</td>\n",
       "      <td>1891515180541284343</td>\n",
       "      <td>4153352203585747855</td>\n",
       "      <td>45</td>\n",
       "      <td>True</td>\n",
       "      <td>6333597102633388268</td>\n",
       "      <td>8.824599e+18</td>\n",
       "      <td>NaN</td>\n",
       "      <td>2.675149e+18</td>\n",
       "      <td>...</td>\n",
       "      <td>NaN</td>\n",
       "      <td>NaN</td>\n",
       "      <td>NaN</td>\n",
       "      <td>2.2481569642543155e+17</td>\n",
       "      <td>NaN</td>\n",
       "      <td>7.531669e+18</td>\n",
       "      <td>NaN</td>\n",
       "      <td>Cellular</td>\n",
       "      <td>1425482436003722411</td>\n",
       "      <td>3.301378e+18</td>\n",
       "    </tr>\n",
       "  </tbody>\n",
       "</table>\n",
       "<p>5 rows × 21 columns</p>\n",
       "</div>"
      ],
      "text/plain": [
       "                              date  event_id             ref_type  \\\n",
       "event_uuid                                                          \n",
       "NaN        2019-03-13 17:29:15.095        40  1891515180541284343   \n",
       "NaN        2019-03-13 17:29:19.356        41  1891515180541284343   \n",
       "NaN        2019-03-13 17:29:14.413         1  1891515180541284343   \n",
       "NaN        2019-03-12 20:22:08.739        40  1891515180541284343   \n",
       "NaN        2019-03-12 20:22:23.439        41  1891515180541284343   \n",
       "\n",
       "                       ref_hash  application_id  attributed  \\\n",
       "event_uuid                                                    \n",
       "NaN         4153352203585747855              45        True   \n",
       "NaN         4153352203585747855              45        True   \n",
       "NaN         4153352203585747855              45        True   \n",
       "NaN         4153352203585747855              45        True   \n",
       "NaN         4153352203585747855              45        True   \n",
       "\n",
       "             device_countrycode  device_os_version  device_brand  \\\n",
       "event_uuid                                                         \n",
       "NaN         6333597102633388268       8.824599e+18           NaN   \n",
       "NaN         6333597102633388268       8.824599e+18           NaN   \n",
       "NaN         6333597102633388268       8.824599e+18           NaN   \n",
       "NaN         6333597102633388268       8.824599e+18           NaN   \n",
       "NaN         6333597102633388268       8.824599e+18           NaN   \n",
       "\n",
       "            device_model       ...        session_user_agent  trans_id  \\\n",
       "event_uuid                     ...                                       \n",
       "NaN         2.675149e+18       ...                       NaN       NaN   \n",
       "NaN         2.675149e+18       ...                       NaN       NaN   \n",
       "NaN         2.675149e+18       ...                       NaN       NaN   \n",
       "NaN         2.675149e+18       ...                       NaN       NaN   \n",
       "NaN         2.675149e+18       ...                       NaN       NaN   \n",
       "\n",
       "           user_agent                 carrier kind     device_os  wifi  \\\n",
       "event_uuid                                                               \n",
       "NaN               NaN  2.2481569642543155e+17  NaN  7.531669e+18   NaN   \n",
       "NaN               NaN  2.2481569642543155e+17  NaN  7.531669e+18   NaN   \n",
       "NaN               NaN  2.2481569642543155e+17  NaN  7.531669e+18   NaN   \n",
       "NaN               NaN  2.2481569642543155e+17  NaN  7.531669e+18   NaN   \n",
       "NaN               NaN  2.2481569642543155e+17  NaN  7.531669e+18   NaN   \n",
       "\n",
       "           connection_type           ip_address  device_language  \n",
       "event_uuid                                                        \n",
       "NaN              Cable/DSL  9027356762104797654     3.301378e+18  \n",
       "NaN              Cable/DSL  9027356762104797654     3.301378e+18  \n",
       "NaN              Cable/DSL  9027356762104797654     3.301378e+18  \n",
       "NaN               Cellular  1425482436003722411     3.301378e+18  \n",
       "NaN               Cellular  1425482436003722411     3.301378e+18  \n",
       "\n",
       "[5 rows x 21 columns]"
      ]
     },
     "execution_count": 395,
     "metadata": {},
     "output_type": "execute_result"
    }
   ],
   "source": [
    "#investigando al User con device ID 4153352203585747855 que cuenta con 158 eventos\n",
    "user1DF=eventsDF.loc[eventsDF['ref_hash']==4153352203585747855]\n",
    "user1DF.head()"
   ]
  },
  {
   "cell_type": "code",
   "execution_count": null,
   "metadata": {},
   "outputs": [],
   "source": []
  },
  {
   "cell_type": "code",
   "execution_count": 398,
   "metadata": {},
   "outputs": [
    {
     "data": {
      "text/html": [
       "<div>\n",
       "<style scoped>\n",
       "    .dataframe tbody tr th:only-of-type {\n",
       "        vertical-align: middle;\n",
       "    }\n",
       "\n",
       "    .dataframe tbody tr th {\n",
       "        vertical-align: top;\n",
       "    }\n",
       "\n",
       "    .dataframe thead th {\n",
       "        text-align: right;\n",
       "    }\n",
       "</style>\n",
       "<table border=\"1\" class=\"dataframe\">\n",
       "  <thead>\n",
       "    <tr style=\"text-align: right;\">\n",
       "      <th></th>\n",
       "      <th>event_id</th>\n",
       "      <th>application_id</th>\n",
       "      <th>attributed</th>\n",
       "      <th>ip_address</th>\n",
       "      <th>date</th>\n",
       "      <th>total</th>\n",
       "    </tr>\n",
       "  </thead>\n",
       "  <tbody>\n",
       "    <tr>\n",
       "      <th>0</th>\n",
       "      <td>1</td>\n",
       "      <td>45</td>\n",
       "      <td>True</td>\n",
       "      <td>28589935755076800</td>\n",
       "      <td>2019-03-06 21:03:44.609</td>\n",
       "      <td>1</td>\n",
       "    </tr>\n",
       "    <tr>\n",
       "      <th>1</th>\n",
       "      <td>1</td>\n",
       "      <td>45</td>\n",
       "      <td>True</td>\n",
       "      <td>1351065840000589205</td>\n",
       "      <td>2019-03-13 21:25:58.767</td>\n",
       "      <td>1</td>\n",
       "    </tr>\n",
       "    <tr>\n",
       "      <th>2</th>\n",
       "      <td>1</td>\n",
       "      <td>45</td>\n",
       "      <td>True</td>\n",
       "      <td>1529935197789281008</td>\n",
       "      <td>2019-03-11 20:31:28.832</td>\n",
       "      <td>1</td>\n",
       "    </tr>\n",
       "    <tr>\n",
       "      <th>3</th>\n",
       "      <td>1</td>\n",
       "      <td>45</td>\n",
       "      <td>True</td>\n",
       "      <td>1529935197789281008</td>\n",
       "      <td>2019-03-11 21:38:28.690</td>\n",
       "      <td>1</td>\n",
       "    </tr>\n",
       "    <tr>\n",
       "      <th>4</th>\n",
       "      <td>1</td>\n",
       "      <td>45</td>\n",
       "      <td>True</td>\n",
       "      <td>1529935197789281008</td>\n",
       "      <td>2019-03-12 02:47:43.244</td>\n",
       "      <td>1</td>\n",
       "    </tr>\n",
       "  </tbody>\n",
       "</table>\n",
       "</div>"
      ],
      "text/plain": [
       "   event_id  application_id  attributed           ip_address  \\\n",
       "0         1              45        True    28589935755076800   \n",
       "1         1              45        True  1351065840000589205   \n",
       "2         1              45        True  1529935197789281008   \n",
       "3         1              45        True  1529935197789281008   \n",
       "4         1              45        True  1529935197789281008   \n",
       "\n",
       "                     date  total  \n",
       "0 2019-03-06 21:03:44.609      1  \n",
       "1 2019-03-13 21:25:58.767      1  \n",
       "2 2019-03-11 20:31:28.832      1  \n",
       "3 2019-03-11 21:38:28.690      1  \n",
       "4 2019-03-12 02:47:43.244      1  "
      ]
     },
     "execution_count": 398,
     "metadata": {},
     "output_type": "execute_result"
    }
   ],
   "source": [
    "user1_dayDF = user1DF.loc[user1DF['attributed']==True].groupby(['event_id','application_id','attributed','ip_address','date']).size().reset_index().rename(columns={0:'total'})\n",
    "user1_dayDF.head()"
   ]
  },
  {
   "cell_type": "code",
   "execution_count": 399,
   "metadata": {},
   "outputs": [
    {
     "data": {
      "text/plain": [
       "Text(0, 0.5, 'Frequency')"
      ]
     },
     "execution_count": 399,
     "metadata": {},
     "output_type": "execute_result"
    },
    {
     "data": {
      "image/png": "[encoded data removed]",
      "text/plain": [
       "<Figure size 864x648 with 1 Axes>"
      ]
     },
     "metadata": {},
     "output_type": "display_data"
    }
   ],
   "source": [
    "#visualizamos en el tiempo\n",
    "# Distribucion/cantidad de eventos \n",
    "sns.set(rc={'figure.figsize':(12,9)})\n",
    "#primero para el DF de eventos total\n",
    "sns.distplot(user1_dayDF['date'], bins=20, color='blue', kde=False)\n",
    "#ahora para el DF de eventos atribuidos a jampp\n",
    "#sns.distplot( events_jamppDF['event_id'], bins=100, color='blue', label='Eventos de Jampp')\n",
    "#plt.legend(prop={'size': 12})\n",
    "plt.title('All Events distribution - more frequent ones', fontsize=16)\n",
    "plt.xlabel('Event_ID', fontsize=13)\n",
    "plt.ylabel('Frequency', fontsize=13)\n",
    "#sns.plt.show()\n"
   ]
  },
  {
   "cell_type": "code",
   "execution_count": 230,
   "metadata": {},
   "outputs": [],
   "source": [
    "# Excluyendo esos 3 valores, volvemos a analizar la distribución\n",
    "events_withoutDF=eventsDF.loc[~eventsDF['ref_hash'].isin([4153352203585747855,5811896797087419802,7486989802522901338])]"
   ]
  },
  {
   "cell_type": "code",
   "execution_count": 232,
   "metadata": {},
   "outputs": [
    {
     "data": {
      "text/plain": [
       "(706, 2)"
      ]
     },
     "execution_count": 232,
     "metadata": {},
     "output_type": "execute_result"
    }
   ],
   "source": [
    "# Recalculamos el DF sin esos valores\n",
    "events_x_userDF = events_withoutDF.loc[events_withoutDF['attributed']==True].groupby(['ref_hash']).size().reset_index().rename(columns={0:'total'})\n",
    "events_x_userDF.shape"
   ]
  },
  {
   "cell_type": "code",
   "execution_count": 234,
   "metadata": {},
   "outputs": [
    {
     "data": {
      "text/plain": [
       "[None]"
      ]
     },
     "execution_count": 234,
     "metadata": {},
     "output_type": "execute_result"
    },
    {
     "data": {
      "image/png": "[encoded data removed]",
      "text/plain": [
       "<Figure size 864x648 with 1 Axes>"
      ]
     },
     "metadata": {},
     "output_type": "display_data"
    },
    {
     "data": {
      "text/plain": [
       "<Figure size 1600x880 with 0 Axes>"
      ]
     },
     "metadata": {},
     "output_type": "display_data"
    }
   ],
   "source": [
    "#lollipop plot de events x user (Jampp)\n",
    "plt.title('Events per User', fontsize=18)\n",
    "plt.xlabel('User', fontsize=14)\n",
    "plt.ylabel('Number of Events', fontsize=14)\n",
    "(markerline, stemlines, baseline) = plt.stem(events_x_userDF['ref_hash'], events_x_userDF['total'])\n",
    "figure(num=None, figsize=(20, 11), dpi=80, facecolor='w', edgecolor='k')\n",
    "# change color and shape and size and edges\n",
    "plt.setp(markerline, marker='D', markersize=5, markeredgecolor=\"orange\", markeredgewidth=2)\n",
    "plt.setp(stemlines, alpha=0.6)\n",
    "plt.setp(baseline, visible=False)\n",
    "\n",
    "#plt.show()\n"
   ]
  },
  {
   "cell_type": "code",
   "execution_count": 270,
   "metadata": {},
   "outputs": [
    {
     "data": {
      "text/html": [
       "<div>\n",
       "<style scoped>\n",
       "    .dataframe tbody tr th:only-of-type {\n",
       "        vertical-align: middle;\n",
       "    }\n",
       "\n",
       "    .dataframe tbody tr th {\n",
       "        vertical-align: top;\n",
       "    }\n",
       "\n",
       "    .dataframe thead th {\n",
       "        text-align: right;\n",
       "    }\n",
       "</style>\n",
       "<table border=\"1\" class=\"dataframe\">\n",
       "  <thead>\n",
       "    <tr style=\"text-align: right;\">\n",
       "      <th></th>\n",
       "      <th>ref_hash</th>\n",
       "      <th>total</th>\n",
       "    </tr>\n",
       "  </thead>\n",
       "  <tbody>\n",
       "    <tr>\n",
       "      <th>count</th>\n",
       "      <td>7.060000e+02</td>\n",
       "      <td>706.000000</td>\n",
       "    </tr>\n",
       "    <tr>\n",
       "      <th>mean</th>\n",
       "      <td>4.664898e+18</td>\n",
       "      <td>6.689802</td>\n",
       "    </tr>\n",
       "    <tr>\n",
       "      <th>std</th>\n",
       "      <td>2.653634e+18</td>\n",
       "      <td>9.560191</td>\n",
       "    </tr>\n",
       "    <tr>\n",
       "      <th>min</th>\n",
       "      <td>3.734549e+15</td>\n",
       "      <td>1.000000</td>\n",
       "    </tr>\n",
       "    <tr>\n",
       "      <th>25%</th>\n",
       "      <td>2.492897e+18</td>\n",
       "      <td>1.000000</td>\n",
       "    </tr>\n",
       "    <tr>\n",
       "      <th>50%</th>\n",
       "      <td>4.783660e+18</td>\n",
       "      <td>3.000000</td>\n",
       "    </tr>\n",
       "    <tr>\n",
       "      <th>75%</th>\n",
       "      <td>6.906046e+18</td>\n",
       "      <td>8.000000</td>\n",
       "    </tr>\n",
       "    <tr>\n",
       "      <th>max</th>\n",
       "      <td>9.220804e+18</td>\n",
       "      <td>74.000000</td>\n",
       "    </tr>\n",
       "  </tbody>\n",
       "</table>\n",
       "</div>"
      ],
      "text/plain": [
       "           ref_hash       total\n",
       "count  7.060000e+02  706.000000\n",
       "mean   4.664898e+18    6.689802\n",
       "std    2.653634e+18    9.560191\n",
       "min    3.734549e+15    1.000000\n",
       "25%    2.492897e+18    1.000000\n",
       "50%    4.783660e+18    3.000000\n",
       "75%    6.906046e+18    8.000000\n",
       "max    9.220804e+18   74.000000"
      ]
     },
     "execution_count": 270,
     "metadata": {},
     "output_type": "execute_result"
    }
   ],
   "source": [
    "#Datos estadísticos de la distribución\n",
    "events_x_userDF.describe()"
   ]
  },
  {
   "cell_type": "code",
   "execution_count": 274,
   "metadata": {},
   "outputs": [
    {
     "data": {
      "text/plain": [
       "<seaborn.axisgrid.JointGrid at 0x1fec973e2b0>"
      ]
     },
     "execution_count": 274,
     "metadata": {},
     "output_type": "execute_result"
    },
    {
     "data": {
      "image/png": "[encoded data removed]",
      "text/plain": [
       "<Figure size 576x576 with 3 Axes>"
      ]
     },
     "metadata": {},
     "output_type": "display_data"
    }
   ],
   "source": [
    "#Cual es la correlación entre users and events?\n",
    "#SCATTER plot\n",
    "\n",
    "#DENSITY HEXBIN CHART\n",
    "sns.jointplot(x=events_x_userDF['ref_hash'], y=events_x_userDF['total'], kind='hex', height=8, color=\"skyblue\").set_axis_labels('Users','Events')\n"
   ]
  },
  {
   "cell_type": "markdown",
   "metadata": {},
   "source": [
    "### Correlation between Events and Users"
   ]
  },
  {
   "cell_type": "markdown",
   "metadata": {},
   "source": [
    "### Eventos x aplicaciones"
   ]
  },
  {
   "cell_type": "code",
   "execution_count": 299,
   "metadata": {},
   "outputs": [],
   "source": [
    "events_appDF= eventsDF.loc[eventsDF['attributed']==True].groupby(['application_id']).size().reset_index().rename(columns={0:'total'})"
   ]
  },
  {
   "cell_type": "code",
   "execution_count": 297,
   "metadata": {},
   "outputs": [
    {
     "data": {
      "text/plain": [
       "[None]"
      ]
     },
     "execution_count": 297,
     "metadata": {},
     "output_type": "execute_result"
    },
    {
     "data": {
      "image/png": "[encoded data removed]",
      "text/plain": [
       "<Figure size 864x648 with 1 Axes>"
      ]
     },
     "metadata": {},
     "output_type": "display_data"
    },
    {
     "data": {
      "text/plain": [
       "<Figure size 1200x880 with 0 Axes>"
      ]
     },
     "metadata": {},
     "output_type": "display_data"
    }
   ],
   "source": [
    "#lollipop plot de events x app (Jampp)\n",
    "plt.title('Events per Application', fontsize=18)\n",
    "plt.xlabel('Application_id', fontsize=14)\n",
    "plt.ylabel('Number of Events', fontsize=14)\n",
    "(markerline, stemlines, baseline) = plt.stem(events_appDF['application_id'], events_appDF['total'])\n",
    "figure(num=None, figsize=(15, 11), dpi=80, facecolor='w', edgecolor='k')\n",
    "# change color and shape and size and edges\n",
    "plt.setp(markerline, marker='D', markersize=10, markeredgecolor=\"yellow\", markeredgewidth=2)\n",
    "plt.setp(stemlines, alpha=0.6)\n",
    "plt.setp(baseline, visible=False)"
   ]
  },
  {
   "cell_type": "code",
   "execution_count": 296,
   "metadata": {},
   "outputs": [
    {
     "data": {
      "text/html": [
       "<div>\n",
       "<style scoped>\n",
       "    .dataframe tbody tr th:only-of-type {\n",
       "        vertical-align: middle;\n",
       "    }\n",
       "\n",
       "    .dataframe tbody tr th {\n",
       "        vertical-align: top;\n",
       "    }\n",
       "\n",
       "    .dataframe thead th {\n",
       "        text-align: right;\n",
       "    }\n",
       "</style>\n",
       "<table border=\"1\" class=\"dataframe\">\n",
       "  <thead>\n",
       "    <tr style=\"text-align: right;\">\n",
       "      <th></th>\n",
       "      <th>application_id</th>\n",
       "      <th>total</th>\n",
       "    </tr>\n",
       "  </thead>\n",
       "  <tbody>\n",
       "    <tr>\n",
       "      <th>count</th>\n",
       "      <td>33.000000</td>\n",
       "      <td>33.000000</td>\n",
       "    </tr>\n",
       "    <tr>\n",
       "      <th>mean</th>\n",
       "      <td>129.060606</td>\n",
       "      <td>154.515152</td>\n",
       "    </tr>\n",
       "    <tr>\n",
       "      <th>std</th>\n",
       "      <td>85.443307</td>\n",
       "      <td>449.360179</td>\n",
       "    </tr>\n",
       "    <tr>\n",
       "      <th>min</th>\n",
       "      <td>7.000000</td>\n",
       "      <td>1.000000</td>\n",
       "    </tr>\n",
       "    <tr>\n",
       "      <th>25%</th>\n",
       "      <td>56.000000</td>\n",
       "      <td>2.000000</td>\n",
       "    </tr>\n",
       "    <tr>\n",
       "      <th>50%</th>\n",
       "      <td>106.000000</td>\n",
       "      <td>8.000000</td>\n",
       "    </tr>\n",
       "    <tr>\n",
       "      <th>75%</th>\n",
       "      <td>198.000000</td>\n",
       "      <td>75.000000</td>\n",
       "    </tr>\n",
       "    <tr>\n",
       "      <th>max</th>\n",
       "      <td>288.000000</td>\n",
       "      <td>2323.000000</td>\n",
       "    </tr>\n",
       "  </tbody>\n",
       "</table>\n",
       "</div>"
      ],
      "text/plain": [
       "       application_id        total\n",
       "count       33.000000    33.000000\n",
       "mean       129.060606   154.515152\n",
       "std         85.443307   449.360179\n",
       "min          7.000000     1.000000\n",
       "25%         56.000000     2.000000\n",
       "50%        106.000000     8.000000\n",
       "75%        198.000000    75.000000\n",
       "max        288.000000  2323.000000"
      ]
     },
     "execution_count": 296,
     "metadata": {},
     "output_type": "execute_result"
    }
   ],
   "source": [
    "#se observan 2 valores que se alejan mucho de la media\n",
    "\n",
    "events_appDF.describe()\n",
    "#events_appDF.loc[events_appDF['total'].idxmax()]\n"
   ]
  },
  {
   "cell_type": "code",
   "execution_count": 401,
   "metadata": {},
   "outputs": [
    {
     "data": {
      "text/plain": [
       "1       5\n",
       "2       5\n",
       "3       3\n",
       "125     1\n",
       "15      1\n",
       "1219    1\n",
       "4       1\n",
       "5       1\n",
       "135     1\n",
       "8       1\n",
       "10      1\n",
       "75      1\n",
       "2323    1\n",
       "53      1\n",
       "20      1\n",
       "150     1\n",
       "91      1\n",
       "11      1\n",
       "19      1\n",
       "431     1\n",
       "51      1\n",
       "323     1\n",
       "7       1\n",
       "Name: total, dtype: int64"
      ]
     },
     "execution_count": 401,
     "metadata": {},
     "output_type": "execute_result"
    }
   ],
   "source": [
    "events_appDF['total'].value_counts()\n"
   ]
  },
  {
   "cell_type": "code",
   "execution_count": 403,
   "metadata": {},
   "outputs": [
    {
     "data": {
      "text/plain": [
       "63     1\n",
       "214    1\n",
       "194    1\n",
       "274    1\n",
       "198    1\n",
       "7      1\n",
       "72     1\n",
       "199    1\n",
       "74     1\n",
       "166    1\n",
       "77     1\n",
       "16     1\n",
       "145    1\n",
       "210    1\n",
       "147    1\n",
       "20     1\n",
       "276    1\n",
       "56     1\n",
       "25     1\n",
       "29     1\n",
       "159    1\n",
       "288    1\n",
       "34     1\n",
       "102    1\n",
       "162    1\n",
       "104    1\n",
       "106    1\n",
       "44     1\n",
       "45     1\n",
       "170    1\n",
       "244    1\n",
       "246    1\n",
       "93     1\n",
       "Name: application_id, dtype: int64"
      ]
     },
     "execution_count": 403,
     "metadata": {},
     "output_type": "execute_result"
    }
   ],
   "source": [
    "events_appDF['application_id'].value_counts()"
   ]
  },
  {
   "cell_type": "code",
   "execution_count": 392,
   "metadata": {},
   "outputs": [
    {
     "data": {
      "text/plain": [
       "<seaborn.axisgrid.JointGrid at 0x1fedacb1c88>"
      ]
     },
     "execution_count": 392,
     "metadata": {},
     "output_type": "execute_result"
    },
    {
     "data": {
      "image/png": "[encoded data removed]",
      "text/plain": [
       "<Figure size 576x576 with 3 Axes>"
      ]
     },
     "metadata": {},
     "output_type": "display_data"
    }
   ],
   "source": [
    "#DENSITY CHART\n",
    "sns.jointplot(x=events_appDF['application_id'], y=events_appDF['total'], kind='hex', height=8, color='blue')\\\n",
    ".set_axis_labels('Applications','Events')"
   ]
  },
  {
   "cell_type": "markdown",
   "metadata": {},
   "source": [
    "### Events per Application"
   ]
  },
  {
   "cell_type": "markdown",
   "metadata": {},
   "source": [
    "### Events per Client"
   ]
  },
  {
   "cell_type": "code",
   "execution_count": 350,
   "metadata": {},
   "outputs": [
    {
     "data": {
      "text/plain": [
       "(23655, 39)"
      ]
     },
     "execution_count": 350,
     "metadata": {},
     "output_type": "execute_result"
    }
   ],
   "source": [
    "#Para poder observar si hay alguna conducta o relación interesante entre los clientes y las aplicaciones, hacemos un merge de ambos DFs: Clicks y Events\n",
    "clicks_eventsDF = pd.merge(eventsDF, clicksDF, on='ref_hash', how='inner')\n",
    "clicks_eventsDF.shape"
   ]
  },
  {
   "cell_type": "code",
   "execution_count": 366,
   "metadata": {},
   "outputs": [
    {
     "data": {
      "text/plain": [
       "Text(0, 0.5, 'Frequency')"
      ]
     },
     "execution_count": 366,
     "metadata": {},
     "output_type": "execute_result"
    },
    {
     "data": {
      "image/png": "[encoded data removed]",
      "text/plain": [
       "<Figure size 648x864 with 1 Axes>"
      ]
     },
     "metadata": {},
     "output_type": "display_data"
    }
   ],
   "source": [
    "#HAcemos la visualiación para identificar los clientes con más exito de conversiones\n",
    "clicks_eventsDF['advertiser_id'].value_counts().sort_values(ascending = False).plot(kind = 'bar', grid = True, figsize = (9,12), color=['purple', 'orange'])\n",
    "plt.xticks(rotation = 0)\n",
    "plt.title('Most successful clients', fontsize=18)\n",
    "plt.xlabel('Advertiser_ID', fontsize=14)\n",
    "#plt.yticks(yticks)\n",
    "plt.ylabel('Frequency', fontsize=14)"
   ]
  },
  {
   "cell_type": "code",
   "execution_count": 361,
   "metadata": {},
   "outputs": [
    {
     "data": {
      "text/plain": [
       "3    21923\n",
       "0     1727\n",
       "8        5\n",
       "Name: advertiser_id, dtype: int64"
      ]
     },
     "execution_count": 361,
     "metadata": {},
     "output_type": "execute_result"
    }
   ],
   "source": [
    "clicks_eventsDF['advertiser_id'].value_counts().sort_values(ascending = False)"
   ]
  },
  {
   "cell_type": "code",
   "execution_count": 329,
   "metadata": {},
   "outputs": [
    {
     "data": {
      "text/plain": [
       "(709, 2)"
      ]
     },
     "execution_count": 329,
     "metadata": {},
     "output_type": "execute_result"
    }
   ],
   "source": [
    "# DF de relación events and clicks para clientes de Jampp\n",
    "events_x_clientjDF = clicks_eventsDF.loc[clicks_eventsDF['attributed']==True].groupby(['advertiser_id','application_id']).size().reset_index().rename(columns={0:'total'})"
   ]
  },
  {
   "cell_type": "markdown",
   "metadata": {},
   "source": [
    "## Relación entre los clientes de Jampp, las aplicaciones en las q se mostró su publicidad y la cantidad de eventos generados"
   ]
  },
  {
   "cell_type": "code",
   "execution_count": 339,
   "metadata": {},
   "outputs": [
    {
     "data": {
      "image/png": "[encoded data removed]",
      "text/plain": [
       "<Figure size 720x720 with 1 Axes>"
      ]
     },
     "metadata": {},
     "output_type": "display_data"
    }
   ],
   "source": [
    "#Bubble pot para observar la relación entre events, clients and applications\n",
    "x = events_x_clientjDF['advertiser_id']\n",
    "y = events_x_clientjDF['application_id']\n",
    "z = events_x_clientjDF['total']\n",
    "plt.figure(figsize = (10,10))\n",
    "# use the scatter function\n",
    "plt.scatter(x, y, s=z*20, c=\"red\", alpha=0.5)\n",
    "# Add titles (main and on axis)\n",
    "plt.xlabel('Client - advertiser_id', fontsize=14)\n",
    "plt.ylabel('Application - application_id', fontsize=14)\n",
    "plt.title('Correlation between Events, Clients and Applications', fontsize=18)\n",
    "plt.show()"
   ]
  },
  {
   "cell_type": "code",
   "execution_count": 342,
   "metadata": {},
   "outputs": [
    {
     "data": {
      "text/plain": [
       "advertiser_id       3\n",
       "application_id     63\n",
       "total             220\n",
       "Name: 2, dtype: int64"
      ]
     },
     "execution_count": 342,
     "metadata": {},
     "output_type": "execute_result"
    }
   ],
   "source": [
    "events_x_clientjDF.loc[events_x_clientjDF['total'].idxmax()]"
   ]
  },
  {
   "cell_type": "code",
   "execution_count": 351,
   "metadata": {},
   "outputs": [
    {
     "data": {
      "text/html": [
       "<div>\n",
       "<style scoped>\n",
       "    .dataframe tbody tr th:only-of-type {\n",
       "        vertical-align: middle;\n",
       "    }\n",
       "\n",
       "    .dataframe tbody tr th {\n",
       "        vertical-align: top;\n",
       "    }\n",
       "\n",
       "    .dataframe thead th {\n",
       "        text-align: right;\n",
       "    }\n",
       "</style>\n",
       "<table border=\"1\" class=\"dataframe\">\n",
       "  <thead>\n",
       "    <tr style=\"text-align: right;\">\n",
       "      <th></th>\n",
       "      <th>advertiser_id</th>\n",
       "      <th>application_id</th>\n",
       "      <th>total</th>\n",
       "    </tr>\n",
       "  </thead>\n",
       "  <tbody>\n",
       "    <tr>\n",
       "      <th>0</th>\n",
       "      <td>0</td>\n",
       "      <td>56</td>\n",
       "      <td>9</td>\n",
       "    </tr>\n",
       "    <tr>\n",
       "      <th>1</th>\n",
       "      <td>0</td>\n",
       "      <td>102</td>\n",
       "      <td>133</td>\n",
       "    </tr>\n",
       "  </tbody>\n",
       "</table>\n",
       "</div>"
      ],
      "text/plain": [
       "   advertiser_id  application_id  total\n",
       "0              0              56      9\n",
       "1              0             102    133"
      ]
     },
     "execution_count": 351,
     "metadata": {},
     "output_type": "execute_result"
    }
   ],
   "source": [
    "#Eventos para el cliente 0 y las dos aplicaciones donde se mostró su publicidad\n",
    "events_x_clientjDF.loc[events_x_clientjDF['advertiser_id']==0]"
   ]
  },
  {
   "cell_type": "code",
   "execution_count": 352,
   "metadata": {},
   "outputs": [
    {
     "data": {
      "text/html": [
       "<div>\n",
       "<style scoped>\n",
       "    .dataframe tbody tr th:only-of-type {\n",
       "        vertical-align: middle;\n",
       "    }\n",
       "\n",
       "    .dataframe tbody tr th {\n",
       "        vertical-align: top;\n",
       "    }\n",
       "\n",
       "    .dataframe thead th {\n",
       "        text-align: right;\n",
       "    }\n",
       "</style>\n",
       "<table border=\"1\" class=\"dataframe\">\n",
       "  <thead>\n",
       "    <tr style=\"text-align: right;\">\n",
       "      <th></th>\n",
       "      <th>advertiser_id</th>\n",
       "      <th>application_id</th>\n",
       "      <th>total</th>\n",
       "    </tr>\n",
       "  </thead>\n",
       "  <tbody>\n",
       "    <tr>\n",
       "      <th>2</th>\n",
       "      <td>3</td>\n",
       "      <td>63</td>\n",
       "      <td>220</td>\n",
       "    </tr>\n",
       "    <tr>\n",
       "      <th>3</th>\n",
       "      <td>3</td>\n",
       "      <td>170</td>\n",
       "      <td>26</td>\n",
       "    </tr>\n",
       "  </tbody>\n",
       "</table>\n",
       "</div>"
      ],
      "text/plain": [
       "   advertiser_id  application_id  total\n",
       "2              3              63    220\n",
       "3              3             170     26"
      ]
     },
     "execution_count": 352,
     "metadata": {},
     "output_type": "execute_result"
    }
   ],
   "source": [
    "#Eventos para el cliente 3 y las dos aplicaciones donde se mostró su publicidad\n",
    "events_x_clientjDF.loc[events_x_clientjDF['advertiser_id']==3]"
   ]
  },
  {
   "cell_type": "markdown",
   "metadata": {},
   "source": [
    "### Relación entre los clientes, las aplicaciones en las q se mostró su publicidad y la cantidad de instalaciones"
   ]
  },
  {
   "cell_type": "code",
   "execution_count": 385,
   "metadata": {},
   "outputs": [
    {
     "data": {
      "image/png": "[encoded data removed]",
      "text/plain": [
       "<Figure size 720x720 with 1 Axes>"
      ]
     },
     "metadata": {},
     "output_type": "display_data"
    }
   ],
   "source": [
    "# DF de relación installs and clicks para clientes \n",
    "installs_x_clientDF = clicks_installsDF.groupby(['advertiser_id','application_id']).size().reset_index().rename(columns={0:'total'})\n",
    "#Bubble pot para observar la relación entre installs, clients and applications. Al no haber atribuidas a jampp, se toma la muestra total\n",
    "x = installs_x_clientDF['advertiser_id']\n",
    "y = installs_x_clientDF['application_id']\n",
    "z = installs_x_clientDF['total']\n",
    "plt.figure(figsize = (10,10))\n",
    "# use the scatter function\n",
    "plt.scatter(x, y, s=z*70, c='purple', alpha=0.8)\n",
    "# Add titles (main and on axis)\n",
    "plt.xlabel('Client - advertiser_id', fontsize=14)\n",
    "plt.ylabel('Application - application_id', fontsize=14)\n",
    "plt.title('Correlation between Installs, Clients and Applications', fontsize=18)\n",
    "plt.show()"
   ]
  },
  {
   "cell_type": "markdown",
   "metadata": {},
   "source": [
    "### Users q observan comportamiento en los 3 grupos: clicks, installs y events\n"
   ]
  },
  {
   "cell_type": "code",
   "execution_count": 86,
   "metadata": {},
   "outputs": [],
   "source": [
    "#estos users estan en la intersección de todos los grupos y puede que tengan mas chances de convertir\n",
    "inner_users_allDF = pd.merge(installsDF, eventsDF, on= 'ref_hash', how= 'inner')\n",
    "inner_users_allDF = pd.merge(inner_users_allDF, clicksDF, on= 'ref_hash', how= 'inner')\n"
   ]
  },
  {
   "cell_type": "code",
   "execution_count": 87,
   "metadata": {},
   "outputs": [],
   "source": [
    "#dejando sólo las columnas relevantes\n",
    "#para identificar si es install or event, ser deja click_hash en installs y event_uuid para eventos\n",
    "inner_users_allDF = inner_users_allDF.drop(['device_countrycode_x','touchX', 'touchY', 'device_language_x', 'session_user_agent_y', 'action_id', 'latitude', 'longitude', 'country_code',\\\n",
    "                  'implicit', 'session_user_agent_x', 'kind_x', 'wifi_x', 'trans_id_x', 'ip_address_x', 'device_countrycode_y', 'device_city', 'kind_y', 'wifi_y', \\\n",
    "                 'connection_type', 'ip_address_y', 'device_language_y', 'wifi_connection' ], axis=1)\n"
   ]
  },
  {
   "cell_type": "code",
   "execution_count": 82,
   "metadata": {},
   "outputs": [
    {
     "data": {
      "text/plain": [
       "False    3412\n",
       "Name: attributed, dtype: int64"
      ]
     },
     "execution_count": 82,
     "metadata": {},
     "output_type": "execute_result"
    }
   ],
   "source": [
    "installsDF['attributed'].value_counts()"
   ]
  },
  {
   "cell_type": "code",
   "execution_count": 88,
   "metadata": {},
   "outputs": [
    {
     "data": {
      "text/html": [
       "<div>\n",
       "<style scoped>\n",
       "    .dataframe tbody tr th:only-of-type {\n",
       "        vertical-align: middle;\n",
       "    }\n",
       "\n",
       "    .dataframe tbody tr th {\n",
       "        vertical-align: top;\n",
       "    }\n",
       "\n",
       "    .dataframe thead th {\n",
       "        text-align: right;\n",
       "    }\n",
       "</style>\n",
       "<table border=\"1\" class=\"dataframe\">\n",
       "  <thead>\n",
       "    <tr style=\"text-align: right;\">\n",
       "      <th></th>\n",
       "      <th>ref_hash</th>\n",
       "      <th>created_x</th>\n",
       "      <th>application_id_x</th>\n",
       "      <th>ref_type_x</th>\n",
       "      <th>click_hash</th>\n",
       "      <th>attributed_x</th>\n",
       "      <th>device_brand_x</th>\n",
       "      <th>device_model_x</th>\n",
       "      <th>user_agent_x</th>\n",
       "      <th>event_uuid</th>\n",
       "      <th>...</th>\n",
       "      <th>source_id</th>\n",
       "      <th>created_y</th>\n",
       "      <th>carrier_id</th>\n",
       "      <th>os_minor</th>\n",
       "      <th>agent_device</th>\n",
       "      <th>os_major</th>\n",
       "      <th>specs_brand</th>\n",
       "      <th>brand</th>\n",
       "      <th>timeToClick</th>\n",
       "      <th>ref_type</th>\n",
       "    </tr>\n",
       "  </thead>\n",
       "  <tbody>\n",
       "    <tr>\n",
       "      <th>0</th>\n",
       "      <td>1254317779988816837</td>\n",
       "      <td>2019-03-06 03:30:01.796</td>\n",
       "      <td>8</td>\n",
       "      <td>1494519392962156891</td>\n",
       "      <td>NaN</td>\n",
       "      <td>False</td>\n",
       "      <td>NaN</td>\n",
       "      <td>1.990627e+18</td>\n",
       "      <td>NaN</td>\n",
       "      <td>NaN</td>\n",
       "      <td>...</td>\n",
       "      <td>0</td>\n",
       "      <td>2019-03-11 13:59:56.718</td>\n",
       "      <td>3.0</td>\n",
       "      <td>3.39996159531154e+18</td>\n",
       "      <td>3.516812e+18</td>\n",
       "      <td>6.693578508358796e+18</td>\n",
       "      <td>2733035977666442898</td>\n",
       "      <td>NaN</td>\n",
       "      <td>NaN</td>\n",
       "      <td>1494519392962156891</td>\n",
       "    </tr>\n",
       "    <tr>\n",
       "      <th>1</th>\n",
       "      <td>1254317779988816837</td>\n",
       "      <td>2019-03-06 03:30:01.796</td>\n",
       "      <td>8</td>\n",
       "      <td>1494519392962156891</td>\n",
       "      <td>NaN</td>\n",
       "      <td>False</td>\n",
       "      <td>NaN</td>\n",
       "      <td>1.990627e+18</td>\n",
       "      <td>NaN</td>\n",
       "      <td>NaN</td>\n",
       "      <td>...</td>\n",
       "      <td>0</td>\n",
       "      <td>2019-03-11 13:59:56.718</td>\n",
       "      <td>3.0</td>\n",
       "      <td>3.39996159531154e+18</td>\n",
       "      <td>3.516812e+18</td>\n",
       "      <td>6.693578508358796e+18</td>\n",
       "      <td>2733035977666442898</td>\n",
       "      <td>NaN</td>\n",
       "      <td>NaN</td>\n",
       "      <td>1494519392962156891</td>\n",
       "    </tr>\n",
       "    <tr>\n",
       "      <th>2</th>\n",
       "      <td>1254317779988816837</td>\n",
       "      <td>2019-03-06 03:30:01.796</td>\n",
       "      <td>8</td>\n",
       "      <td>1494519392962156891</td>\n",
       "      <td>NaN</td>\n",
       "      <td>False</td>\n",
       "      <td>NaN</td>\n",
       "      <td>1.990627e+18</td>\n",
       "      <td>NaN</td>\n",
       "      <td>NaN</td>\n",
       "      <td>...</td>\n",
       "      <td>0</td>\n",
       "      <td>2019-03-11 13:59:56.718</td>\n",
       "      <td>3.0</td>\n",
       "      <td>3.39996159531154e+18</td>\n",
       "      <td>3.516812e+18</td>\n",
       "      <td>6.693578508358796e+18</td>\n",
       "      <td>2733035977666442898</td>\n",
       "      <td>NaN</td>\n",
       "      <td>NaN</td>\n",
       "      <td>1494519392962156891</td>\n",
       "    </tr>\n",
       "    <tr>\n",
       "      <th>3</th>\n",
       "      <td>1254317779988816837</td>\n",
       "      <td>2019-03-06 03:30:01.796</td>\n",
       "      <td>8</td>\n",
       "      <td>1494519392962156891</td>\n",
       "      <td>NaN</td>\n",
       "      <td>False</td>\n",
       "      <td>NaN</td>\n",
       "      <td>1.990627e+18</td>\n",
       "      <td>NaN</td>\n",
       "      <td>NaN</td>\n",
       "      <td>...</td>\n",
       "      <td>0</td>\n",
       "      <td>2019-03-11 13:59:56.718</td>\n",
       "      <td>3.0</td>\n",
       "      <td>3.39996159531154e+18</td>\n",
       "      <td>3.516812e+18</td>\n",
       "      <td>6.693578508358796e+18</td>\n",
       "      <td>2733035977666442898</td>\n",
       "      <td>NaN</td>\n",
       "      <td>NaN</td>\n",
       "      <td>1494519392962156891</td>\n",
       "    </tr>\n",
       "    <tr>\n",
       "      <th>4</th>\n",
       "      <td>1254317779988816837</td>\n",
       "      <td>2019-03-06 03:30:01.796</td>\n",
       "      <td>8</td>\n",
       "      <td>1494519392962156891</td>\n",
       "      <td>NaN</td>\n",
       "      <td>False</td>\n",
       "      <td>NaN</td>\n",
       "      <td>1.990627e+18</td>\n",
       "      <td>NaN</td>\n",
       "      <td>NaN</td>\n",
       "      <td>...</td>\n",
       "      <td>0</td>\n",
       "      <td>2019-03-11 13:59:56.718</td>\n",
       "      <td>3.0</td>\n",
       "      <td>3.39996159531154e+18</td>\n",
       "      <td>3.516812e+18</td>\n",
       "      <td>6.693578508358796e+18</td>\n",
       "      <td>2733035977666442898</td>\n",
       "      <td>NaN</td>\n",
       "      <td>NaN</td>\n",
       "      <td>1494519392962156891</td>\n",
       "    </tr>\n",
       "  </tbody>\n",
       "</table>\n",
       "<p>5 rows × 33 columns</p>\n",
       "</div>"
      ],
      "text/plain": [
       "              ref_hash               created_x  application_id_x  \\\n",
       "0  1254317779988816837 2019-03-06 03:30:01.796                 8   \n",
       "1  1254317779988816837 2019-03-06 03:30:01.796                 8   \n",
       "2  1254317779988816837 2019-03-06 03:30:01.796                 8   \n",
       "3  1254317779988816837 2019-03-06 03:30:01.796                 8   \n",
       "4  1254317779988816837 2019-03-06 03:30:01.796                 8   \n",
       "\n",
       "            ref_type_x  click_hash  attributed_x device_brand_x  \\\n",
       "0  1494519392962156891         NaN         False            NaN   \n",
       "1  1494519392962156891         NaN         False            NaN   \n",
       "2  1494519392962156891         NaN         False            NaN   \n",
       "3  1494519392962156891         NaN         False            NaN   \n",
       "4  1494519392962156891         NaN         False            NaN   \n",
       "\n",
       "   device_model_x user_agent_x event_uuid         ...          source_id  \\\n",
       "0    1.990627e+18          NaN        NaN         ...                  0   \n",
       "1    1.990627e+18          NaN        NaN         ...                  0   \n",
       "2    1.990627e+18          NaN        NaN         ...                  0   \n",
       "3    1.990627e+18          NaN        NaN         ...                  0   \n",
       "4    1.990627e+18          NaN        NaN         ...                  0   \n",
       "\n",
       "                created_y carrier_id              os_minor  agent_device  \\\n",
       "0 2019-03-11 13:59:56.718        3.0  3.39996159531154e+18  3.516812e+18   \n",
       "1 2019-03-11 13:59:56.718        3.0  3.39996159531154e+18  3.516812e+18   \n",
       "2 2019-03-11 13:59:56.718        3.0  3.39996159531154e+18  3.516812e+18   \n",
       "3 2019-03-11 13:59:56.718        3.0  3.39996159531154e+18  3.516812e+18   \n",
       "4 2019-03-11 13:59:56.718        3.0  3.39996159531154e+18  3.516812e+18   \n",
       "\n",
       "                os_major          specs_brand  brand timeToClick  \\\n",
       "0  6.693578508358796e+18  2733035977666442898    NaN         NaN   \n",
       "1  6.693578508358796e+18  2733035977666442898    NaN         NaN   \n",
       "2  6.693578508358796e+18  2733035977666442898    NaN         NaN   \n",
       "3  6.693578508358796e+18  2733035977666442898    NaN         NaN   \n",
       "4  6.693578508358796e+18  2733035977666442898    NaN         NaN   \n",
       "\n",
       "              ref_type  \n",
       "0  1494519392962156891  \n",
       "1  1494519392962156891  \n",
       "2  1494519392962156891  \n",
       "3  1494519392962156891  \n",
       "4  1494519392962156891  \n",
       "\n",
       "[5 rows x 33 columns]"
      ]
     },
     "execution_count": 88,
     "metadata": {},
     "output_type": "execute_result"
    }
   ],
   "source": [
    "#check_later day of the week label\n",
    "#all_usersDF['day_of_week'] = all_usersDF['created_x'].dt.day_name()\n",
    "#all_usersDF['day_of_week'] = all_usersDF['created_y'].dt.day_name()\n",
    "inner_users_allDF.head()"
   ]
  },
  {
   "cell_type": "code",
   "execution_count": null,
   "metadata": {},
   "outputs": [],
   "source": []
  },
  {
   "cell_type": "markdown",
   "metadata": {},
   "source": [
    "### Events x User x app"
   ]
  },
  {
   "cell_type": "code",
   "execution_count": 30,
   "metadata": {},
   "outputs": [
    {
     "data": {
      "text/plain": [
       "(219725, 3)"
      ]
     },
     "execution_count": 30,
     "metadata": {},
     "output_type": "execute_result"
    }
   ],
   "source": [
    "#merge con clicks para sacar el app_id\n",
    "#user_appDF = pd.merge(eventsDF, clicksDF, on= 'ref_hash', how= 'inner') - no need\n",
    "#events_jamppDF = eventsDF.apply(lambda x:1 if eventsDF['attributed'] == 'true' else np.NaN)\n",
    "#events_jamppDF.head()\n",
    "events_user_appDF = eventsDF.groupby(['ref_hash', 'application_id']).size().reset_index().rename(columns={0:'total'})\n",
    "events_user_appDF.shape\n",
    "\n",
    "#installs_x_userDF['day_of_week'] = all_usersDF['created_x'].dt.day_name()"
   ]
  },
  {
   "cell_type": "code",
   "execution_count": null,
   "metadata": {},
   "outputs": [],
   "source": [
    "# Users with events attributed to Jampp grouped by application and client\n",
    "users_client_appDF = events_user_app_DF"
   ]
  },
  {
   "cell_type": "code",
   "execution_count": 62,
   "metadata": {},
   "outputs": [
    {
     "data": {
      "text/html": [
       "<div>\n",
       "<style scoped>\n",
       "    .dataframe tbody tr th:only-of-type {\n",
       "        vertical-align: middle;\n",
       "    }\n",
       "\n",
       "    .dataframe tbody tr th {\n",
       "        vertical-align: top;\n",
       "    }\n",
       "\n",
       "    .dataframe thead th {\n",
       "        text-align: right;\n",
       "    }\n",
       "</style>\n",
       "<table border=\"1\" class=\"dataframe\">\n",
       "  <thead>\n",
       "    <tr style=\"text-align: right;\">\n",
       "      <th></th>\n",
       "      <th>ref_hash</th>\n",
       "      <th>application_id</th>\n",
       "      <th>total</th>\n",
       "    </tr>\n",
       "  </thead>\n",
       "  <tbody>\n",
       "    <tr>\n",
       "      <th>0</th>\n",
       "      <td>3734548868538049</td>\n",
       "      <td>16</td>\n",
       "      <td>2</td>\n",
       "    </tr>\n",
       "    <tr>\n",
       "      <th>1</th>\n",
       "      <td>27908941588426094</td>\n",
       "      <td>170</td>\n",
       "      <td>6</td>\n",
       "    </tr>\n",
       "    <tr>\n",
       "      <th>2</th>\n",
       "      <td>52110095334412606</td>\n",
       "      <td>34</td>\n",
       "      <td>2</td>\n",
       "    </tr>\n",
       "    <tr>\n",
       "      <th>3</th>\n",
       "      <td>63706564589198060</td>\n",
       "      <td>104</td>\n",
       "      <td>6</td>\n",
       "    </tr>\n",
       "    <tr>\n",
       "      <th>4</th>\n",
       "      <td>67726569533000506</td>\n",
       "      <td>16</td>\n",
       "      <td>18</td>\n",
       "    </tr>\n",
       "  </tbody>\n",
       "</table>\n",
       "</div>"
      ],
      "text/plain": [
       "            ref_hash  application_id  total\n",
       "0   3734548868538049              16      2\n",
       "1  27908941588426094             170      6\n",
       "2  52110095334412606              34      2\n",
       "3  63706564589198060             104      6\n",
       "4  67726569533000506              16     18"
      ]
     },
     "execution_count": 62,
     "metadata": {},
     "output_type": "execute_result"
    }
   ],
   "source": [
    "#events x user and app attributed to jampp\n",
    "events_user_jamppDF = eventsDF.loc[eventsDF['attributed']==True].groupby(['ref_hash', 'application_id']).size().reset_index().rename(columns = \\\n",
    "                                                                                                                                     {0:'total'})\n",
    "#events_user_jamppDF = events_user_jampp.loc[events_user_jampp['total']>1]\n",
    "events_user_jamppDF.head()"
   ]
  },
  {
   "cell_type": "code",
   "execution_count": null,
   "metadata": {},
   "outputs": [],
   "source": []
  },
  {
   "cell_type": "code",
   "execution_count": 44,
   "metadata": {},
   "outputs": [],
   "source": [
    "import matplotlib.pyplot as plt\n",
    "from scipy.stats import kde"
   ]
  },
  {
   "cell_type": "code",
   "execution_count": null,
   "metadata": {},
   "outputs": [],
   "source": []
  },
  {
   "cell_type": "markdown",
   "metadata": {},
   "source": [
    "## Intersección entre eventos y app"
   ]
  },
  {
   "cell_type": "code",
   "execution_count": 304,
   "metadata": {},
   "outputs": [
    {
     "name": "stdout",
     "output_type": "stream",
     "text": [
      "618228\n",
      "4391.5897887323945\n",
      "34044.657219677196\n"
     ]
    }
   ],
   "source": [
    "# primero cant de eventos\n",
    "event_top=eventsDF['event_id'].value_counts().max()\n",
    "event_mean=eventsDF['event_id'].value_counts().mean()\n",
    "event_median=eventsDF['event_id'].value_counts().std()\n",
    "print(event_top)\n",
    "print(event_mean)\n",
    "print(event_median)"
   ]
  },
  {
   "cell_type": "code",
   "execution_count": null,
   "metadata": {},
   "outputs": [],
   "source": []
  },
  {
   "cell_type": "code",
   "execution_count": 177,
   "metadata": {},
   "outputs": [
    {
     "name": "stdout",
     "output_type": "stream",
     "text": [
      "1514\n",
      "80.05084745762711\n",
      "6.0\n"
     ]
    }
   ],
   "source": [
    "#eventos solamente de Jampp\n",
    "events_jamppDF=events_withoutDF.loc[events_withoutDF['attributed']==True]\n",
    "#Ahora again solo para los de Jampp\n",
    "event_top=events_jamppDF['event_id'].value_counts().max()\n",
    "event_mean=events_jamppDF['event_id'].value_counts().mean()\n",
    "event_median=events_jamppDF['event_id'].value_counts().median()\n",
    "print(event_top)\n",
    "print(event_mean)\n",
    "print(event_median)\n"
   ]
  },
  {
   "cell_type": "code",
   "execution_count": null,
   "metadata": {},
   "outputs": [],
   "source": []
  },
  {
   "cell_type": "code",
   "execution_count": 202,
   "metadata": {},
   "outputs": [],
   "source": [
    "#ax = events_withoutDF['event_id'].plot.hist(bins=50, alpha=0.5, color='orange')"
   ]
  },
  {
   "cell_type": "markdown",
   "metadata": {},
   "source": [
    "### Distribución de Eventos (con mayor frecuencia)"
   ]
  },
  {
   "cell_type": "code",
   "execution_count": 205,
   "metadata": {},
   "outputs": [
    {
     "data": {
      "text/plain": [
       "Text(0, 0.5, 'Frequency')"
      ]
     },
     "execution_count": 205,
     "metadata": {},
     "output_type": "execute_result"
    },
    {
     "data": {
      "image/png": "[encoded data removed]",
      "text/plain": [
       "<Figure size 864x648 with 1 Axes>"
      ]
     },
     "metadata": {},
     "output_type": "display_data"
    }
   ],
   "source": [
    "# Distribucion/cantidad de eventos \n",
    "sns.set(rc={'figure.figsize':(12,9)})\n",
    "#primero para el DF de eventos total\n",
    "sns.distplot(events_withoutDF['event_id'], bins=20, color='orange', kde=False)\n",
    "#ahora para el DF de eventos atribuidos a jampp\n",
    "#sns.distplot( events_jamppDF['event_id'], bins=100, color='blue', label='Eventos de Jampp')\n",
    "#plt.legend(prop={'size': 12})\n",
    "plt.title('All Events distribution - more frequent ones', fontsize=16)\n",
    "plt.xlabel('Event_ID', fontsize=13)\n",
    "plt.ylabel('Frequency', fontsize=13)\n",
    "#sns.plt.show()\n"
   ]
  },
  {
   "cell_type": "code",
   "execution_count": 391,
   "metadata": {},
   "outputs": [
    {
     "data": {
      "text/plain": [
       "Text(0, 0.5, 'Frequency')"
      ]
     },
     "execution_count": 391,
     "metadata": {},
     "output_type": "execute_result"
    },
    {
     "data": {
      "image/png": "[encoded data removed]",
      "text/plain": [
       "<Figure size 864x648 with 1 Axes>"
      ]
     },
     "metadata": {},
     "output_type": "display_data"
    }
   ],
   "source": [
    "# Distribucion/cantidad de eventos \n",
    "sns.set(rc={'figure.figsize':(12,9)})\n",
    "#primero para el DF de eventos total\n",
    "#ahora para el DF de eventos atribuidos a jampp\n",
    "sns.distplot( events_jamppDF['event_id'], bins=20, color='blue', kde=False)\n",
    "#plt.legend(prop={'size': 12})\n",
    "plt.title('Jampp Events distribution - Most frequent ones', fontsize=16)\n",
    "plt.xlabel('Event_ID', fontsize=13)\n",
    "plt.ylabel('Frequency', fontsize=13)\n",
    "#sns.plt.show()"
   ]
  },
  {
   "cell_type": "code",
   "execution_count": null,
   "metadata": {},
   "outputs": [],
   "source": []
  },
  {
   "cell_type": "code",
   "execution_count": 15,
   "metadata": {},
   "outputs": [
    {
     "data": {
      "text/plain": [
       "False    14268927\n",
       "True      5302392\n",
       "Name: device_id, dtype: int64"
      ]
     },
     "execution_count": 15,
     "metadata": {},
     "output_type": "execute_result"
    }
   ],
   "source": [
    "auctionsDF['device_id'].isin(clicksDF['ref_hash']).value_counts()"
   ]
  },
  {
   "cell_type": "code",
   "execution_count": 19,
   "metadata": {},
   "outputs": [
    {
     "data": {
      "text/plain": [
       "False    13838204\n",
       "True      5733115\n",
       "Name: device_id, dtype: int64"
      ]
     },
     "execution_count": 19,
     "metadata": {},
     "output_type": "execute_result"
    }
   ],
   "source": [
    "auctionsDF['device_id'].isin(eventsDF['ref_hash']).value_counts()"
   ]
  },
  {
   "cell_type": "code",
   "execution_count": null,
   "metadata": {},
   "outputs": [],
   "source": [
    "AuEvDF=pd.merge(auctionsDF, eventsDF, left_on='device_id', right_on='ref_hash', how='inner')"
   ]
  },
  {
   "cell_type": "code",
   "execution_count": 23,
   "metadata": {},
   "outputs": [],
   "source": [
    "#client_counts['advertiser_id'].value_counts()\n",
    "clicksDF['advertiser_id'].value_counts()\n",
    "#Giving friendly name to the clients('advertiser_id')\n",
    "\n",
    "#clicksDF['client']=clicksDF['advertiser_id'].replace(to_replace=0,value = 'client_1')\n",
    "clicksDF['client']=clicksDF['advertiser_id'].replace({ 3:'client_1' , 0:'client_2', 2:'client_3' , 7: 'client_4' , 1: 'client_5' , 8: 'client_6', 5:'client_7'})"
   ]
  },
  {
   "cell_type": "code",
   "execution_count": 22,
   "metadata": {},
   "outputs": [],
   "source": [
    "#g = sns.barplot(y=client.values, x=brand.values, palette=sns.color_palette(\"Set2\", 3))\n",
    "#g.set_title('Advertiser_id events segun brand', fontsize=18);\n",
    "#g.set_xlabel('Brand');\n",
    "#g.set_ylabel('Client');"
   ]
  },
  {
   "cell_type": "code",
   "execution_count": null,
   "metadata": {},
   "outputs": [],
   "source": [
    "#No deshechamos esta parte ya que puede servir para futuro análisis on en caso de cambio del data set"
   ]
  },
  {
   "cell_type": "markdown",
   "metadata": {},
   "source": [
    "### DF user profile for installs - Considering there are no installs attributed to Jampp, disregard this part"
   ]
  },
  {
   "cell_type": "code",
   "execution_count": 388,
   "metadata": {},
   "outputs": [],
   "source": [
    "#Users that click and installs\n",
    "users_installsDF=pd.merge(clicksDF, installsDF, on='ref_hash', how = 'inner')\n",
    "#users_installsDF.head()"
   ]
  },
  {
   "cell_type": "code",
   "execution_count": 70,
   "metadata": {},
   "outputs": [],
   "source": [
    "users_installsDF['day_of_week'] = users_installsDF['created_x'].dt.day_name()"
   ]
  },
  {
   "cell_type": "code",
   "execution_count": 46,
   "metadata": {},
   "outputs": [],
   "source": [
    "users=users_installsDF.groupby('ref_hash').count()"
   ]
  },
  {
   "cell_type": "code",
   "execution_count": 389,
   "metadata": {},
   "outputs": [],
   "source": [
    "#giving the users of interest a more friendly name\n",
    "users_installsDF['user_id'] = users_installsDF['ref_hash'].replace([582930240149217282, 1254317779988816837, 2369915544093215150, 3685364020547088390,\\\n",
    "                         7190737170444985036, 7759178785240189555, 8187571300120427764], ['user_1', 'user_2', 'user_3', 'user_4', 'user_5', 'user_6', 'user_7'])\n",
    "#users_installsDF.head()"
   ]
  },
  {
   "cell_type": "code",
   "execution_count": 49,
   "metadata": {},
   "outputs": [
    {
     "data": {
      "text/html": [
       "<div>\n",
       "<style scoped>\n",
       "    .dataframe tbody tr th:only-of-type {\n",
       "        vertical-align: middle;\n",
       "    }\n",
       "\n",
       "    .dataframe tbody tr th {\n",
       "        vertical-align: top;\n",
       "    }\n",
       "\n",
       "    .dataframe thead th {\n",
       "        text-align: right;\n",
       "    }\n",
       "</style>\n",
       "<table border=\"1\" class=\"dataframe\">\n",
       "  <thead>\n",
       "    <tr style=\"text-align: right;\">\n",
       "      <th></th>\n",
       "      <th>advertiser_id</th>\n",
       "      <th>action_id</th>\n",
       "      <th>source_id</th>\n",
       "      <th>created</th>\n",
       "      <th>country_code</th>\n",
       "      <th>latitude</th>\n",
       "      <th>longitude</th>\n",
       "      <th>wifi_connection</th>\n",
       "      <th>carrier_id</th>\n",
       "      <th>os_minor</th>\n",
       "      <th>...</th>\n",
       "      <th>trans_id</th>\n",
       "      <th>user_agent</th>\n",
       "      <th>carrier</th>\n",
       "      <th>kind</th>\n",
       "      <th>device_os</th>\n",
       "      <th>wifi</th>\n",
       "      <th>connection_type</th>\n",
       "      <th>ip_address</th>\n",
       "      <th>device_language</th>\n",
       "      <th>os_name</th>\n",
       "    </tr>\n",
       "  </thead>\n",
       "  <tbody>\n",
       "    <tr>\n",
       "      <th>0</th>\n",
       "      <td>0</td>\n",
       "      <td>NaN</td>\n",
       "      <td>0</td>\n",
       "      <td>2019-03-08 15:24:16.069</td>\n",
       "      <td>6333597102633388268</td>\n",
       "      <td>1.205689</td>\n",
       "      <td>1.070234</td>\n",
       "      <td>False</td>\n",
       "      <td>6.0</td>\n",
       "      <td>5.97565607170903e+18</td>\n",
       "      <td>...</td>\n",
       "      <td>NaN</td>\n",
       "      <td>NaN</td>\n",
       "      <td>NaN</td>\n",
       "      <td>5.104972e+18</td>\n",
       "      <td>NaN</td>\n",
       "      <td>NaN</td>\n",
       "      <td>NaN</td>\n",
       "      <td>4734439999480138563</td>\n",
       "      <td>6.111820e+18</td>\n",
       "      <td>NaN</td>\n",
       "    </tr>\n",
       "    <tr>\n",
       "      <th>1</th>\n",
       "      <td>0</td>\n",
       "      <td>NaN</td>\n",
       "      <td>0</td>\n",
       "      <td>2019-03-08 15:24:16.069</td>\n",
       "      <td>6333597102633388268</td>\n",
       "      <td>1.205689</td>\n",
       "      <td>1.070234</td>\n",
       "      <td>False</td>\n",
       "      <td>6.0</td>\n",
       "      <td>5.97565607170903e+18</td>\n",
       "      <td>...</td>\n",
       "      <td>NaN</td>\n",
       "      <td>NaN</td>\n",
       "      <td>NaN</td>\n",
       "      <td>5.104972e+18</td>\n",
       "      <td>NaN</td>\n",
       "      <td>NaN</td>\n",
       "      <td>NaN</td>\n",
       "      <td>4734439999480138563</td>\n",
       "      <td>6.111820e+18</td>\n",
       "      <td>NaN</td>\n",
       "    </tr>\n",
       "    <tr>\n",
       "      <th>2</th>\n",
       "      <td>0</td>\n",
       "      <td>NaN</td>\n",
       "      <td>0</td>\n",
       "      <td>2019-03-08 15:24:16.069</td>\n",
       "      <td>6333597102633388268</td>\n",
       "      <td>1.205689</td>\n",
       "      <td>1.070234</td>\n",
       "      <td>False</td>\n",
       "      <td>6.0</td>\n",
       "      <td>5.97565607170903e+18</td>\n",
       "      <td>...</td>\n",
       "      <td>NaN</td>\n",
       "      <td>NaN</td>\n",
       "      <td>NaN</td>\n",
       "      <td>5.104972e+18</td>\n",
       "      <td>NaN</td>\n",
       "      <td>NaN</td>\n",
       "      <td>NaN</td>\n",
       "      <td>4734439999480138563</td>\n",
       "      <td>6.111820e+18</td>\n",
       "      <td>NaN</td>\n",
       "    </tr>\n",
       "    <tr>\n",
       "      <th>3</th>\n",
       "      <td>0</td>\n",
       "      <td>NaN</td>\n",
       "      <td>0</td>\n",
       "      <td>2019-03-08 15:24:16.069</td>\n",
       "      <td>6333597102633388268</td>\n",
       "      <td>1.205689</td>\n",
       "      <td>1.070234</td>\n",
       "      <td>False</td>\n",
       "      <td>6.0</td>\n",
       "      <td>5.97565607170903e+18</td>\n",
       "      <td>...</td>\n",
       "      <td>NaN</td>\n",
       "      <td>NaN</td>\n",
       "      <td>NaN</td>\n",
       "      <td>5.104972e+18</td>\n",
       "      <td>NaN</td>\n",
       "      <td>NaN</td>\n",
       "      <td>NaN</td>\n",
       "      <td>3407912150780822286</td>\n",
       "      <td>6.111820e+18</td>\n",
       "      <td>NaN</td>\n",
       "    </tr>\n",
       "    <tr>\n",
       "      <th>4</th>\n",
       "      <td>0</td>\n",
       "      <td>NaN</td>\n",
       "      <td>0</td>\n",
       "      <td>2019-03-08 15:24:16.069</td>\n",
       "      <td>6333597102633388268</td>\n",
       "      <td>1.205689</td>\n",
       "      <td>1.070234</td>\n",
       "      <td>False</td>\n",
       "      <td>6.0</td>\n",
       "      <td>5.97565607170903e+18</td>\n",
       "      <td>...</td>\n",
       "      <td>NaN</td>\n",
       "      <td>NaN</td>\n",
       "      <td>NaN</td>\n",
       "      <td>2.376750e+18</td>\n",
       "      <td>NaN</td>\n",
       "      <td>NaN</td>\n",
       "      <td>NaN</td>\n",
       "      <td>4734439999480138563</td>\n",
       "      <td>6.111820e+18</td>\n",
       "      <td>NaN</td>\n",
       "    </tr>\n",
       "  </tbody>\n",
       "</table>\n",
       "<p>5 rows × 41 columns</p>\n",
       "</div>"
      ],
      "text/plain": [
       "   advertiser_id  action_id  source_id                 created  \\\n",
       "0              0        NaN          0 2019-03-08 15:24:16.069   \n",
       "1              0        NaN          0 2019-03-08 15:24:16.069   \n",
       "2              0        NaN          0 2019-03-08 15:24:16.069   \n",
       "3              0        NaN          0 2019-03-08 15:24:16.069   \n",
       "4              0        NaN          0 2019-03-08 15:24:16.069   \n",
       "\n",
       "          country_code  latitude  longitude  wifi_connection  carrier_id  \\\n",
       "0  6333597102633388268  1.205689   1.070234            False         6.0   \n",
       "1  6333597102633388268  1.205689   1.070234            False         6.0   \n",
       "2  6333597102633388268  1.205689   1.070234            False         6.0   \n",
       "3  6333597102633388268  1.205689   1.070234            False         6.0   \n",
       "4  6333597102633388268  1.205689   1.070234            False         6.0   \n",
       "\n",
       "               os_minor   ...    trans_id user_agent carrier          kind  \\\n",
       "0  5.97565607170903e+18   ...         NaN        NaN     NaN  5.104972e+18   \n",
       "1  5.97565607170903e+18   ...         NaN        NaN     NaN  5.104972e+18   \n",
       "2  5.97565607170903e+18   ...         NaN        NaN     NaN  5.104972e+18   \n",
       "3  5.97565607170903e+18   ...         NaN        NaN     NaN  5.104972e+18   \n",
       "4  5.97565607170903e+18   ...         NaN        NaN     NaN  2.376750e+18   \n",
       "\n",
       "   device_os  wifi  connection_type           ip_address  device_language  \\\n",
       "0        NaN   NaN              NaN  4734439999480138563     6.111820e+18   \n",
       "1        NaN   NaN              NaN  4734439999480138563     6.111820e+18   \n",
       "2        NaN   NaN              NaN  4734439999480138563     6.111820e+18   \n",
       "3        NaN   NaN              NaN  3407912150780822286     6.111820e+18   \n",
       "4        NaN   NaN              NaN  4734439999480138563     6.111820e+18   \n",
       "\n",
       "  os_name  \n",
       "0     NaN  \n",
       "1     NaN  \n",
       "2     NaN  \n",
       "3     NaN  \n",
       "4     NaN  \n",
       "\n",
       "[5 rows x 41 columns]"
      ]
     },
     "execution_count": 49,
     "metadata": {},
     "output_type": "execute_result"
    }
   ],
   "source": [
    "#Users that click and convert events\n",
    "users_eventsDF=pd.merge(clicksDF, eventsDF, on='ref_hash', how = 'inner')\n",
    "users_eventsDF.head()"
   ]
  },
  {
   "cell_type": "code",
   "execution_count": 41,
   "metadata": {},
   "outputs": [
    {
     "data": {
      "text/plain": [
       "(23655, 41)"
      ]
     },
     "execution_count": 41,
     "metadata": {},
     "output_type": "execute_result"
    }
   ],
   "source": [
    "users_eventsDF.shape"
   ]
  },
  {
   "cell_type": "code",
   "execution_count": 28,
   "metadata": {},
   "outputs": [
    {
     "data": {
      "text/html": [
       "<div>\n",
       "<style scoped>\n",
       "    .dataframe tbody tr th:only-of-type {\n",
       "        vertical-align: middle;\n",
       "    }\n",
       "\n",
       "    .dataframe tbody tr th {\n",
       "        vertical-align: top;\n",
       "    }\n",
       "\n",
       "    .dataframe thead th {\n",
       "        text-align: right;\n",
       "    }\n",
       "</style>\n",
       "<table border=\"1\" class=\"dataframe\">\n",
       "  <thead>\n",
       "    <tr style=\"text-align: right;\">\n",
       "      <th></th>\n",
       "      <th>auction_type_id</th>\n",
       "      <th>country</th>\n",
       "      <th>date</th>\n",
       "      <th>device_id</th>\n",
       "      <th>platform</th>\n",
       "      <th>ref_type_id</th>\n",
       "      <th>source_id_x</th>\n",
       "      <th>advertiser_id</th>\n",
       "      <th>action_id</th>\n",
       "      <th>source_id_y</th>\n",
       "      <th>...</th>\n",
       "      <th>agent_device</th>\n",
       "      <th>os_major</th>\n",
       "      <th>specs_brand</th>\n",
       "      <th>brand</th>\n",
       "      <th>timeToClick</th>\n",
       "      <th>touchX</th>\n",
       "      <th>touchY</th>\n",
       "      <th>ref_type</th>\n",
       "      <th>ref_hash</th>\n",
       "      <th>client</th>\n",
       "    </tr>\n",
       "  </thead>\n",
       "  <tbody>\n",
       "    <tr>\n",
       "      <th>0</th>\n",
       "      <td>NaN</td>\n",
       "      <td>6333597102633388268</td>\n",
       "      <td>2019-03-11 14:18:33.290763</td>\n",
       "      <td>6059599345986491085</td>\n",
       "      <td>1</td>\n",
       "      <td>1</td>\n",
       "      <td>0</td>\n",
       "      <td>3</td>\n",
       "      <td>NaN</td>\n",
       "      <td>0</td>\n",
       "      <td>...</td>\n",
       "      <td>NaN</td>\n",
       "      <td>3.072849339937028e+18</td>\n",
       "      <td>392184377613098015</td>\n",
       "      <td>NaN</td>\n",
       "      <td>7.050</td>\n",
       "      <td>0.229</td>\n",
       "      <td>0.945</td>\n",
       "      <td>1891515180541284343</td>\n",
       "      <td>6059599345986491085</td>\n",
       "      <td>client_1</td>\n",
       "    </tr>\n",
       "    <tr>\n",
       "      <th>1</th>\n",
       "      <td>NaN</td>\n",
       "      <td>6333597102633388268</td>\n",
       "      <td>2019-03-11 14:18:33.290763</td>\n",
       "      <td>6059599345986491085</td>\n",
       "      <td>1</td>\n",
       "      <td>1</td>\n",
       "      <td>0</td>\n",
       "      <td>3</td>\n",
       "      <td>NaN</td>\n",
       "      <td>0</td>\n",
       "      <td>...</td>\n",
       "      <td>NaN</td>\n",
       "      <td>3.072849339937028e+18</td>\n",
       "      <td>392184377613098015</td>\n",
       "      <td>NaN</td>\n",
       "      <td>14.084</td>\n",
       "      <td>0.264</td>\n",
       "      <td>0.830</td>\n",
       "      <td>1891515180541284343</td>\n",
       "      <td>6059599345986491085</td>\n",
       "      <td>client_1</td>\n",
       "    </tr>\n",
       "    <tr>\n",
       "      <th>2</th>\n",
       "      <td>NaN</td>\n",
       "      <td>6333597102633388268</td>\n",
       "      <td>2019-03-12 03:01:18.518467</td>\n",
       "      <td>6059599345986491085</td>\n",
       "      <td>1</td>\n",
       "      <td>1</td>\n",
       "      <td>0</td>\n",
       "      <td>3</td>\n",
       "      <td>NaN</td>\n",
       "      <td>0</td>\n",
       "      <td>...</td>\n",
       "      <td>NaN</td>\n",
       "      <td>3.072849339937028e+18</td>\n",
       "      <td>392184377613098015</td>\n",
       "      <td>NaN</td>\n",
       "      <td>7.050</td>\n",
       "      <td>0.229</td>\n",
       "      <td>0.945</td>\n",
       "      <td>1891515180541284343</td>\n",
       "      <td>6059599345986491085</td>\n",
       "      <td>client_1</td>\n",
       "    </tr>\n",
       "    <tr>\n",
       "      <th>3</th>\n",
       "      <td>NaN</td>\n",
       "      <td>6333597102633388268</td>\n",
       "      <td>2019-03-12 03:01:18.518467</td>\n",
       "      <td>6059599345986491085</td>\n",
       "      <td>1</td>\n",
       "      <td>1</td>\n",
       "      <td>0</td>\n",
       "      <td>3</td>\n",
       "      <td>NaN</td>\n",
       "      <td>0</td>\n",
       "      <td>...</td>\n",
       "      <td>NaN</td>\n",
       "      <td>3.072849339937028e+18</td>\n",
       "      <td>392184377613098015</td>\n",
       "      <td>NaN</td>\n",
       "      <td>14.084</td>\n",
       "      <td>0.264</td>\n",
       "      <td>0.830</td>\n",
       "      <td>1891515180541284343</td>\n",
       "      <td>6059599345986491085</td>\n",
       "      <td>client_1</td>\n",
       "    </tr>\n",
       "    <tr>\n",
       "      <th>4</th>\n",
       "      <td>NaN</td>\n",
       "      <td>6333597102633388268</td>\n",
       "      <td>2019-03-13 00:23:26.966605</td>\n",
       "      <td>6059599345986491085</td>\n",
       "      <td>1</td>\n",
       "      <td>1</td>\n",
       "      <td>0</td>\n",
       "      <td>3</td>\n",
       "      <td>NaN</td>\n",
       "      <td>0</td>\n",
       "      <td>...</td>\n",
       "      <td>NaN</td>\n",
       "      <td>3.072849339937028e+18</td>\n",
       "      <td>392184377613098015</td>\n",
       "      <td>NaN</td>\n",
       "      <td>7.050</td>\n",
       "      <td>0.229</td>\n",
       "      <td>0.945</td>\n",
       "      <td>1891515180541284343</td>\n",
       "      <td>6059599345986491085</td>\n",
       "      <td>client_1</td>\n",
       "    </tr>\n",
       "  </tbody>\n",
       "</table>\n",
       "<p>5 rows × 27 columns</p>\n",
       "</div>"
      ],
      "text/plain": [
       "   auction_type_id              country                        date  \\\n",
       "0              NaN  6333597102633388268  2019-03-11 14:18:33.290763   \n",
       "1              NaN  6333597102633388268  2019-03-11 14:18:33.290763   \n",
       "2              NaN  6333597102633388268  2019-03-12 03:01:18.518467   \n",
       "3              NaN  6333597102633388268  2019-03-12 03:01:18.518467   \n",
       "4              NaN  6333597102633388268  2019-03-13 00:23:26.966605   \n",
       "\n",
       "             device_id platform ref_type_id  source_id_x  advertiser_id  \\\n",
       "0  6059599345986491085        1           1            0              3   \n",
       "1  6059599345986491085        1           1            0              3   \n",
       "2  6059599345986491085        1           1            0              3   \n",
       "3  6059599345986491085        1           1            0              3   \n",
       "4  6059599345986491085        1           1            0              3   \n",
       "\n",
       "   action_id  source_id_y    ...    agent_device               os_major  \\\n",
       "0        NaN            0    ...             NaN  3.072849339937028e+18   \n",
       "1        NaN            0    ...             NaN  3.072849339937028e+18   \n",
       "2        NaN            0    ...             NaN  3.072849339937028e+18   \n",
       "3        NaN            0    ...             NaN  3.072849339937028e+18   \n",
       "4        NaN            0    ...             NaN  3.072849339937028e+18   \n",
       "\n",
       "          specs_brand  brand  timeToClick  touchX touchY             ref_type  \\\n",
       "0  392184377613098015    NaN        7.050   0.229  0.945  1891515180541284343   \n",
       "1  392184377613098015    NaN       14.084   0.264  0.830  1891515180541284343   \n",
       "2  392184377613098015    NaN        7.050   0.229  0.945  1891515180541284343   \n",
       "3  392184377613098015    NaN       14.084   0.264  0.830  1891515180541284343   \n",
       "4  392184377613098015    NaN        7.050   0.229  0.945  1891515180541284343   \n",
       "\n",
       "              ref_hash    client  \n",
       "0  6059599345986491085  client_1  \n",
       "1  6059599345986491085  client_1  \n",
       "2  6059599345986491085  client_1  \n",
       "3  6059599345986491085  client_1  \n",
       "4  6059599345986491085  client_1  \n",
       "\n",
       "[5 rows x 27 columns]"
      ]
     },
     "execution_count": 28,
     "metadata": {},
     "output_type": "execute_result"
    }
   ],
   "source": [
    "usersDF.head()"
   ]
  },
  {
   "cell_type": "code",
   "execution_count": null,
   "metadata": {},
   "outputs": [],
   "source": []
  }
 ],
 "metadata": {
  "kernelspec": {
   "display_name": "Python 3",
   "language": "python",
   "name": "python3"
  },
  "language_info": {
   "codemirror_mode": {
    "name": "ipython",
    "version": 3
   },
   "file_extension": ".py",
   "mimetype": "text/x-python",
   "name": "python",
   "nbconvert_exporter": "python",
   "pygments_lexer": "ipython3",
   "version": "3.6.6"
  }
 },
 "nbformat": 4,
 "nbformat_minor": 2
}
